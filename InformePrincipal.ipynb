{
 "nbformat": 4,
 "nbformat_minor": 2,
 "metadata": {
  "language_info": {
   "name": "python",
   "codemirror_mode": {
    "name": "ipython",
    "version": 2
   },
   "version": "3.6.9-final"
  },
  "orig_nbformat": 2,
  "file_extension": ".py",
  "mimetype": "text/x-python",
  "name": "python",
  "npconvert_exporter": "python",
  "pygments_lexer": "ipython2",
  "version": 2,
  "kernelspec": {
   "name": "python36964bit393d81eb15b54b0093ea31921d80c86d",
   "display_name": "Python 3.6.9 64-bit"
  }
 },
 "cells": [
  {
   "cell_type": "markdown",
   "execution_count": null,
   "metadata": {},
   "outputs": [],
   "source": [
    "## Hipótesis"
   ]
  },
  {
   "cell_type": "markdown",
   "execution_count": null,
   "metadata": {},
   "outputs": [],
   "source": [
    "**Los videojuegos de Nintendo son los más comentados en Twitter * (En idioma español / en los últimos 7 días)**"
   ]
  },
  {
   "cell_type": "markdown",
   "execution_count": null,
   "metadata": {},
   "outputs": [],
   "source": [
    "## Importaciones Iniciales"
   ]
  },
  {
   "cell_type": "markdown",
   "execution_count": null,
   "metadata": {},
   "outputs": [],
   "source": [
    "**Importación de bibliotecas y módulos**"
   ]
  },
  {
   "cell_type": "code",
   "execution_count": 2,
   "metadata": {},
   "outputs": [],
   "source": [
    "# import tweepy as tw\n",
    "# import os\n",
    "# from dotenv import load_dotenv\n",
    "import requests\n",
    "import json\n",
    "import pandas as pd\n",
    "import matplotlib.pyplot as plt\n",
    "from src.functions import *\n",
    ""
   ]
  },
  {
   "cell_type": "markdown",
   "execution_count": null,
   "metadata": {},
   "outputs": [],
   "source": [
    "**Importación de Tokens y Keys**"
   ]
  },
  {
   "cell_type": "code",
   "execution_count": 2,
   "metadata": {},
   "outputs": [],
   "source": [
    "# load_dotenv()\n",
    "# Access_Token = os.getenv(\"TWITTER_TOKEN\")\n",
    "# Access_Secret = os.getenv(\"TWITTER_SECRET_TOKEN\")\n",
    "# Consumer_Key = os.getenv(\"TWITTER_API\")\n",
    "# Consumer_secret = os.getenv(\"TWITTER_SECRET_API\")\n",
    "\n",
    "\n",
    "# print(f\"We have twitter tokens: {Access_Token[0:3]}, {Access_Secret[0:3]}\", {Consumer_Key[0:3]}, {Consumer_secret[0:3]})"
   ]
  },
  {
   "cell_type": "markdown",
   "execution_count": null,
   "metadata": {},
   "outputs": [],
   "source": [
    "**Comprobación inicial de Tokens**"
   ]
  },
  {
   "cell_type": "code",
   "execution_count": 3,
   "metadata": {},
   "outputs": [],
   "source": [
    "# auth = tw.OAuthHandler(Consumer_Key,Consumer_secret)\n",
    "# auth.set_access_token(Access_Token, Access_Secret)\n",
    "# api = tw.API(auth)\n",
    "\n",
    "# public_tweets = api.home_timeline(count=2)\n",
    "# for tweet in public_tweets:\n",
    "#     print(tweet.text)"
   ]
  },
  {
   "cell_type": "markdown",
   "execution_count": null,
   "metadata": {},
   "outputs": [],
   "source": [
    "## Importación de Dataset"
   ]
  },
  {
   "cell_type": "code",
   "execution_count": 3,
   "metadata": {},
   "outputs": [
    {
     "data": {
      "text/html": "<div>\n<style scoped>\n    .dataframe tbody tr th:only-of-type {\n        vertical-align: middle;\n    }\n\n    .dataframe tbody tr th {\n        vertical-align: top;\n    }\n\n    .dataframe thead th {\n        text-align: right;\n    }\n</style>\n<table border=\"1\" class=\"dataframe\">\n  <thead>\n    <tr style=\"text-align: right;\">\n      <th></th>\n      <th>Rank</th>\n      <th>Name</th>\n      <th>Platform</th>\n      <th>Year</th>\n      <th>Genre</th>\n      <th>Publisher</th>\n      <th>NA_Sales</th>\n      <th>EU_Sales</th>\n      <th>JP_Sales</th>\n      <th>Other_Sales</th>\n      <th>Global_Sales</th>\n    </tr>\n  </thead>\n  <tbody>\n    <tr>\n      <th>0</th>\n      <td>1</td>\n      <td>Wii Sports</td>\n      <td>Wii</td>\n      <td>2006.0</td>\n      <td>Sports</td>\n      <td>Nintendo</td>\n      <td>41.49</td>\n      <td>29.02</td>\n      <td>3.77</td>\n      <td>8.46</td>\n      <td>82.74</td>\n    </tr>\n    <tr>\n      <th>1</th>\n      <td>2</td>\n      <td>Super Mario Bros.</td>\n      <td>NES</td>\n      <td>1985.0</td>\n      <td>Platform</td>\n      <td>Nintendo</td>\n      <td>29.08</td>\n      <td>3.58</td>\n      <td>6.81</td>\n      <td>0.77</td>\n      <td>40.24</td>\n    </tr>\n    <tr>\n      <th>2</th>\n      <td>3</td>\n      <td>Mario Kart Wii</td>\n      <td>Wii</td>\n      <td>2008.0</td>\n      <td>Racing</td>\n      <td>Nintendo</td>\n      <td>15.85</td>\n      <td>12.88</td>\n      <td>3.79</td>\n      <td>3.31</td>\n      <td>35.82</td>\n    </tr>\n    <tr>\n      <th>3</th>\n      <td>4</td>\n      <td>Wii Sports Resort</td>\n      <td>Wii</td>\n      <td>2009.0</td>\n      <td>Sports</td>\n      <td>Nintendo</td>\n      <td>15.75</td>\n      <td>11.01</td>\n      <td>3.28</td>\n      <td>2.96</td>\n      <td>33.00</td>\n    </tr>\n    <tr>\n      <th>4</th>\n      <td>5</td>\n      <td>Pokemon Red/Pokemon Blue</td>\n      <td>GB</td>\n      <td>1996.0</td>\n      <td>Role-Playing</td>\n      <td>Nintendo</td>\n      <td>11.27</td>\n      <td>8.89</td>\n      <td>10.22</td>\n      <td>1.00</td>\n      <td>31.37</td>\n    </tr>\n  </tbody>\n</table>\n</div>",
      "text/plain": "   Rank                      Name Platform    Year         Genre Publisher  \\\n0     1                Wii Sports      Wii  2006.0        Sports  Nintendo   \n1     2         Super Mario Bros.      NES  1985.0      Platform  Nintendo   \n2     3            Mario Kart Wii      Wii  2008.0        Racing  Nintendo   \n3     4         Wii Sports Resort      Wii  2009.0        Sports  Nintendo   \n4     5  Pokemon Red/Pokemon Blue       GB  1996.0  Role-Playing  Nintendo   \n\n   NA_Sales  EU_Sales  JP_Sales  Other_Sales  Global_Sales  \n0     41.49     29.02      3.77         8.46         82.74  \n1     29.08      3.58      6.81         0.77         40.24  \n2     15.85     12.88      3.79         3.31         35.82  \n3     15.75     11.01      3.28         2.96         33.00  \n4     11.27      8.89     10.22         1.00         31.37  "
     },
     "execution_count": 3,
     "metadata": {},
     "output_type": "execute_result"
    }
   ],
   "source": [
    "df = pd.read_csv(\"Inputs/Data - Videogames Sales.csv\", encoding = \"ISO-8859-1\")\n",
    "\n",
    "df.head(5)\n",
    "\n",
    ""
   ]
  },
  {
   "cell_type": "markdown",
   "execution_count": null,
   "metadata": {},
   "outputs": [],
   "source": [
    "**Comprobamos y eliminamos las filas con valores nulos**"
   ]
  },
  {
   "cell_type": "code",
   "execution_count": 5,
   "metadata": {},
   "outputs": [
    {
     "data": {
      "text/plain": "Rank            0\nName            0\nPlatform        0\nYear            0\nGenre           0\nPublisher       0\nNA_Sales        0\nEU_Sales        0\nJP_Sales        0\nOther_Sales     0\nGlobal_Sales    0\ndtype: int64"
     },
     "execution_count": 5,
     "metadata": {},
     "output_type": "execute_result"
    }
   ],
   "source": [
    "df2 = df.dropna().fillna(0)\n",
    "\n",
    "df2.isnull().sum()"
   ]
  },
  {
   "cell_type": "markdown",
   "execution_count": null,
   "metadata": {},
   "outputs": [],
   "source": [
    "**Renombramos columnas con su correspondiente traducción**"
   ]
  },
  {
   "cell_type": "code",
   "execution_count": 6,
   "metadata": {},
   "outputs": [
    {
     "data": {
      "text/html": "<div>\n<style scoped>\n    .dataframe tbody tr th:only-of-type {\n        vertical-align: middle;\n    }\n\n    .dataframe tbody tr th {\n        vertical-align: top;\n    }\n\n    .dataframe thead th {\n        text-align: right;\n    }\n</style>\n<table border=\"1\" class=\"dataframe\">\n  <thead>\n    <tr style=\"text-align: right;\">\n      <th></th>\n      <th>Ranking</th>\n      <th>Nombre</th>\n      <th>Empresa</th>\n      <th>Fecha</th>\n      <th>Genero</th>\n      <th>Ventas_Globales</th>\n    </tr>\n  </thead>\n  <tbody>\n    <tr>\n      <th>0</th>\n      <td>1</td>\n      <td>Wii Sports</td>\n      <td>Wii</td>\n      <td>2006.0</td>\n      <td>Sports</td>\n      <td>82.74</td>\n    </tr>\n    <tr>\n      <th>1</th>\n      <td>2</td>\n      <td>Super Mario Bros.</td>\n      <td>NES</td>\n      <td>1985.0</td>\n      <td>Platform</td>\n      <td>40.24</td>\n    </tr>\n    <tr>\n      <th>2</th>\n      <td>3</td>\n      <td>Mario Kart Wii</td>\n      <td>Wii</td>\n      <td>2008.0</td>\n      <td>Racing</td>\n      <td>35.82</td>\n    </tr>\n    <tr>\n      <th>3</th>\n      <td>4</td>\n      <td>Wii Sports Resort</td>\n      <td>Wii</td>\n      <td>2009.0</td>\n      <td>Sports</td>\n      <td>33.00</td>\n    </tr>\n    <tr>\n      <th>4</th>\n      <td>5</td>\n      <td>Pokemon Red/Pokemon Blue</td>\n      <td>GB</td>\n      <td>1996.0</td>\n      <td>Role-Playing</td>\n      <td>31.37</td>\n    </tr>\n  </tbody>\n</table>\n</div>",
      "text/plain": "   Ranking                    Nombre Empresa   Fecha        Genero  \\\n0        1                Wii Sports     Wii  2006.0        Sports   \n1        2         Super Mario Bros.     NES  1985.0      Platform   \n2        3            Mario Kart Wii     Wii  2008.0        Racing   \n3        4         Wii Sports Resort     Wii  2009.0        Sports   \n4        5  Pokemon Red/Pokemon Blue      GB  1996.0  Role-Playing   \n\n   Ventas_Globales  \n0            82.74  \n1            40.24  \n2            35.82  \n3            33.00  \n4            31.37  "
     },
     "execution_count": 6,
     "metadata": {},
     "output_type": "execute_result"
    }
   ],
   "source": [
    "df2.rename(columns={'Rank':'Ranking','Name':'Nombre', 'Platform':'Empresa', 'Year':'Fecha','Genre':'Genero', 'Publisher':'Editor', 'NA_Sales':'NA_Ventas', 'EU_Sales':'EU_Ventas', 'JP_Sales':'JP_Ventas', 'Other_Sales':'Otras_Ventas','Global_Sales':'Ventas_Globales'}, inplace=True)\n",
    "\n",
    "df2 = df2[['Ranking', 'Nombre', 'Empresa', 'Fecha', 'Genero','Ventas_Globales']]\n",
    "\n",
    "df2.head(5)\n"
   ]
  },
  {
   "cell_type": "markdown",
   "execution_count": null,
   "metadata": {},
   "outputs": [],
   "source": [
    "**Cambiamos de tipo aquellas columnas que son problemáticas**"
   ]
  },
  {
   "cell_type": "code",
   "execution_count": 7,
   "metadata": {},
   "outputs": [
    {
     "data": {
      "text/plain": "0    2006\n1    1985\n2    2008\n3    2009\n4    1996\nName: Fecha, dtype: int64"
     },
     "execution_count": 7,
     "metadata": {},
     "output_type": "execute_result"
    }
   ],
   "source": [
    "df2[\"Fecha\"] = df2.Fecha.astype(int)\n",
    "\n",
    "df2[\"Fecha\"].head(5)\n"
   ]
  },
  {
   "cell_type": "markdown",
   "execution_count": null,
   "metadata": {},
   "outputs": [],
   "source": [
    "**Ordenación de Dataframe en función de columna \"Fecha\" en orden ascendente a partir del año 2008**"
   ]
  },
  {
   "cell_type": "code",
   "execution_count": 8,
   "metadata": {},
   "outputs": [
    {
     "data": {
      "text/html": "<div>\n<style scoped>\n    .dataframe tbody tr th:only-of-type {\n        vertical-align: middle;\n    }\n\n    .dataframe tbody tr th {\n        vertical-align: top;\n    }\n\n    .dataframe thead th {\n        text-align: right;\n    }\n</style>\n<table border=\"1\" class=\"dataframe\">\n  <thead>\n    <tr style=\"text-align: right;\">\n      <th></th>\n      <th>Ranking</th>\n      <th>Nombre</th>\n      <th>Empresa</th>\n      <th>Fecha</th>\n      <th>Genero</th>\n      <th>Ventas_Globales</th>\n    </tr>\n  </thead>\n  <tbody>\n    <tr>\n      <th>7988</th>\n      <td>16592</td>\n      <td>Chou Ezaru wa Akai Hana: Koi wa Tsuki ni Shiru...</td>\n      <td>PSV</td>\n      <td>2016</td>\n      <td>Action</td>\n      <td>0.01</td>\n    </tr>\n    <tr>\n      <th>7989</th>\n      <td>14393</td>\n      <td>Phantasy Star Online 2 Episode 4: Deluxe Package</td>\n      <td>PS4</td>\n      <td>2017</td>\n      <td>Role-Playing</td>\n      <td>0.03</td>\n    </tr>\n    <tr>\n      <th>7990</th>\n      <td>16244</td>\n      <td>Phantasy Star Online 2 Episode 4: Deluxe Package</td>\n      <td>PSV</td>\n      <td>2017</td>\n      <td>Role-Playing</td>\n      <td>0.01</td>\n    </tr>\n    <tr>\n      <th>7991</th>\n      <td>16441</td>\n      <td>Brothers Conflict: Precious Baby</td>\n      <td>PSV</td>\n      <td>2017</td>\n      <td>Action</td>\n      <td>0.01</td>\n    </tr>\n    <tr>\n      <th>7992</th>\n      <td>5959</td>\n      <td>Imagine: Makeup Artist</td>\n      <td>DS</td>\n      <td>2020</td>\n      <td>Simulation</td>\n      <td>0.29</td>\n    </tr>\n  </tbody>\n</table>\n</div>",
      "text/plain": "      Ranking                                             Nombre Empresa  \\\n7988    16592  Chou Ezaru wa Akai Hana: Koi wa Tsuki ni Shiru...     PSV   \n7989    14393   Phantasy Star Online 2 Episode 4: Deluxe Package     PS4   \n7990    16244   Phantasy Star Online 2 Episode 4: Deluxe Package     PSV   \n7991    16441                   Brothers Conflict: Precious Baby     PSV   \n7992     5959                             Imagine: Makeup Artist      DS   \n\n      Fecha        Genero  Ventas_Globales  \n7988   2016        Action             0.01  \n7989   2017  Role-Playing             0.03  \n7990   2017  Role-Playing             0.01  \n7991   2017        Action             0.01  \n7992   2020    Simulation             0.29  "
     },
     "execution_count": 8,
     "metadata": {},
     "output_type": "execute_result"
    }
   ],
   "source": [
    "df3 = df2.loc[df2['Fecha']>2007].sort_values(['Fecha','Ranking'], ascending=True).reset_index(drop=True)\n",
    "\n",
    "df3.tail(5)"
   ]
  },
  {
   "cell_type": "markdown",
   "execution_count": null,
   "metadata": {},
   "outputs": [],
   "source": [
    "**Agrupación de las consolas en función de su fabricante**"
   ]
  },
  {
   "cell_type": "code",
   "execution_count": 9,
   "metadata": {},
   "outputs": [
    {
     "data": {
      "text/plain": "['3DS',\n 'DC',\n 'DS',\n 'PC',\n 'PS2',\n 'PS3',\n 'PS4',\n 'PSP',\n 'PSV',\n 'Wii',\n 'WiiU',\n 'X360',\n 'XB',\n 'XOne']"
     },
     "execution_count": 9,
     "metadata": {},
     "output_type": "execute_result"
    }
   ],
   "source": [
    "Listado_Empresas = df3.groupby('Empresa').count().reset_index()\n",
    "\n",
    "Listado_Empresas['Empresa'].tolist()"
   ]
  },
  {
   "cell_type": "code",
   "execution_count": 10,
   "metadata": {},
   "outputs": [
    {
     "data": {
      "text/plain": "['Microsoft', 'Nintendo', 'Ordenador', 'Sega', 'Sony']"
     },
     "execution_count": 10,
     "metadata": {},
     "output_type": "execute_result"
    }
   ],
   "source": [
    "df3.Empresa = df3[\"Empresa\"].apply(changeToBusiness)\n",
    "\n",
    "Listado_Empresas = df3.groupby('Empresa').count().reset_index()\n",
    "\n",
    "Listado_Empresas['Empresa'].tolist()"
   ]
  },
  {
   "cell_type": "markdown",
   "execution_count": null,
   "metadata": {},
   "outputs": [],
   "source": [
    "**Codificamos correctamente los nombres a un formato normalizado**"
   ]
  },
  {
   "cell_type": "code",
   "execution_count": 11,
   "metadata": {},
   "outputs": [
    {
     "data": {
      "text/plain": "'PokÃ©mon Platinum Version'"
     },
     "execution_count": 11,
     "metadata": {},
     "output_type": "execute_result"
    }
   ],
   "source": [
    "test_decode = df3['Nombre'].iloc[4]\n",
    "\n",
    "test_decode"
   ]
  },
  {
   "cell_type": "code",
   "execution_count": 12,
   "metadata": {},
   "outputs": [
    {
     "data": {
      "text/plain": "b'Pok\\xc3\\xa9mon Platinum Version'"
     },
     "execution_count": 12,
     "metadata": {},
     "output_type": "execute_result"
    }
   ],
   "source": [
    "test_decode.encode('latin-1')"
   ]
  },
  {
   "cell_type": "markdown",
   "execution_count": null,
   "metadata": {},
   "outputs": [],
   "source": [
    "**Traducimos los géneros al idioma español**"
   ]
  },
  {
   "cell_type": "code",
   "execution_count": 13,
   "metadata": {},
   "outputs": [],
   "source": [
    "# df3.Genero = df3[\"Genero\"].apply(translation_deprecated)\n",
    "\n",
    "# df3[\"Genero\"].head(5)\n",
    "\n"
   ]
  },
  {
   "cell_type": "code",
   "execution_count": 14,
   "metadata": {},
   "outputs": [
    {
     "data": {
      "text/plain": "0    Carreras\n1       Lucha\n2      Accion\n3      Accion\n4         Rol\nName: Genero, dtype: object"
     },
     "execution_count": 14,
     "metadata": {},
     "output_type": "execute_result"
    }
   ],
   "source": [
    "df3.Genero = df3[\"Genero\"].apply(local_translation)\n",
    "\n",
    "df3[\"Genero\"].head(5)"
   ]
  },
  {
   "cell_type": "markdown",
   "execution_count": null,
   "metadata": {},
   "outputs": [],
   "source": [
    "## Tratamiento Inicial con API de Twitter"
   ]
  },
  {
   "cell_type": "markdown",
   "execution_count": null,
   "metadata": {},
   "outputs": [],
   "source": [
    "**Se reduce la envergadura del dataframe para su correcto uso junto a la API de Twitter (Sólo permite 180 request cada 15 minutos en versión gratuita)**"
   ]
  },
  {
   "cell_type": "code",
   "execution_count": 15,
   "metadata": {},
   "outputs": [
    {
     "data": {
      "text/plain": "(7993, 6)"
     },
     "execution_count": 15,
     "metadata": {},
     "output_type": "execute_result"
    }
   ],
   "source": [
    "df3.shape"
   ]
  },
  {
   "cell_type": "code",
   "execution_count": 16,
   "metadata": {},
   "outputs": [
    {
     "data": {
      "text/html": "<div>\n<style scoped>\n    .dataframe tbody tr th:only-of-type {\n        vertical-align: middle;\n    }\n\n    .dataframe tbody tr th {\n        vertical-align: top;\n    }\n\n    .dataframe thead th {\n        text-align: right;\n    }\n</style>\n<table border=\"1\" class=\"dataframe\">\n  <thead>\n    <tr style=\"text-align: right;\">\n      <th></th>\n      <th>Ranking</th>\n      <th>Nombre</th>\n      <th>Empresa</th>\n      <th>Fecha</th>\n      <th>Genero</th>\n      <th>Ventas_Globales</th>\n    </tr>\n  </thead>\n  <tbody>\n    <tr>\n      <th>0</th>\n      <td>16056</td>\n      <td>Banjo-Kazooie</td>\n      <td>Microsoft</td>\n      <td>2008</td>\n      <td>Plataformas</td>\n      <td>0.01</td>\n    </tr>\n    <tr>\n      <th>1</th>\n      <td>14240</td>\n      <td>Summer Athletics: The Ultimate Challenge</td>\n      <td>Microsoft</td>\n      <td>2008</td>\n      <td>Deportes</td>\n      <td>0.03</td>\n    </tr>\n    <tr>\n      <th>2</th>\n      <td>14258</td>\n      <td>Crash Time: Autobahn Pusuit</td>\n      <td>Microsoft</td>\n      <td>2008</td>\n      <td>Carreras</td>\n      <td>0.03</td>\n    </tr>\n    <tr>\n      <th>3</th>\n      <td>14399</td>\n      <td>Otomedius Gorgeous</td>\n      <td>Microsoft</td>\n      <td>2008</td>\n      <td>Disparos</td>\n      <td>0.03</td>\n    </tr>\n    <tr>\n      <th>4</th>\n      <td>14772</td>\n      <td>Clannad</td>\n      <td>Microsoft</td>\n      <td>2008</td>\n      <td>Aventura</td>\n      <td>0.03</td>\n    </tr>\n  </tbody>\n</table>\n</div>",
      "text/plain": "   Ranking                                    Nombre    Empresa  Fecha  \\\n0    16056                             Banjo-Kazooie  Microsoft   2008   \n1    14240  Summer Athletics: The Ultimate Challenge  Microsoft   2008   \n2    14258               Crash Time: Autobahn Pusuit  Microsoft   2008   \n3    14399                        Otomedius Gorgeous  Microsoft   2008   \n4    14772                                   Clannad  Microsoft   2008   \n\n        Genero  Ventas_Globales  \n0  Plataformas             0.01  \n1     Deportes             0.03  \n2     Carreras             0.03  \n3     Disparos             0.03  \n4     Aventura             0.03  "
     },
     "execution_count": 16,
     "metadata": {},
     "output_type": "execute_result"
    }
   ],
   "source": [
    "df4 = df3.sort_values(by=['Empresa','Fecha','Ventas_Globales'],ascending=True).reset_index(drop=True)\n",
    "\n",
    "df4.head(5)"
   ]
  },
  {
   "cell_type": "code",
   "execution_count": 17,
   "metadata": {},
   "outputs": [
    {
     "data": {
      "text/plain": "(113, 6)"
     },
     "execution_count": 17,
     "metadata": {},
     "output_type": "execute_result"
    }
   ],
   "source": [
    "\n",
    "df5 = estructure_df(df4).reset_index(drop=True)\n",
    "\n",
    "df5.shape"
   ]
  },
  {
   "cell_type": "markdown",
   "execution_count": null,
   "metadata": {},
   "outputs": [],
   "source": [
    "**Preparamos el número de twitts por juego**"
   ]
  },
  {
   "cell_type": "code",
   "execution_count": 18,
   "metadata": {},
   "outputs": [
    {
     "name": "stderr",
     "output_type": "stream",
     "text": "Python-dotenv could not parse statement starting at line 5\nPython-dotenv could not parse statement starting at line 5\nPython-dotenv could not parse statement starting at line 5\nPython-dotenv could not parse statement starting at line 5\nPython-dotenv could not parse statement starting at line 5\nPython-dotenv could not parse statement starting at line 5\nPython-dotenv could not parse statement starting at line 5\nPython-dotenv could not parse statement starting at line 5\nPython-dotenv could not parse statement starting at line 5\nPython-dotenv could not parse statement starting at line 5\nPython-dotenv could not parse statement starting at line 5\nPython-dotenv could not parse statement starting at line 5\nPython-dotenv could not parse statement starting at line 5\nPython-dotenv could not parse statement starting at line 5\nPython-dotenv could not parse statement starting at line 5\nPython-dotenv could not parse statement starting at line 5\nRate limit reached. Sleeping for: 611\nRate limit reached. Sleeping for: 736\nPython-dotenv could not parse statement starting at line 5\nPython-dotenv could not parse statement starting at line 5\nPython-dotenv could not parse statement starting at line 5\nPython-dotenv could not parse statement starting at line 5\nPython-dotenv could not parse statement starting at line 5\nPython-dotenv could not parse statement starting at line 5\nPython-dotenv could not parse statement starting at line 5\nPython-dotenv could not parse statement starting at line 5\nPython-dotenv could not parse statement starting at line 5\nPython-dotenv could not parse statement starting at line 5\nPython-dotenv could not parse statement starting at line 5\nPython-dotenv could not parse statement starting at line 5\nPython-dotenv could not parse statement starting at line 5\nPython-dotenv could not parse statement starting at line 5\nPython-dotenv could not parse statement starting at line 5\nPython-dotenv could not parse statement starting at line 5\nPython-dotenv could not parse statement starting at line 5\nPython-dotenv could not parse statement starting at line 5\nPython-dotenv could not parse statement starting at line 5\nPython-dotenv could not parse statement starting at line 5\nPython-dotenv could not parse statement starting at line 5\nPython-dotenv could not parse statement starting at line 5\nPython-dotenv could not parse statement starting at line 5\nPython-dotenv could not parse statement starting at line 5\nPython-dotenv could not parse statement starting at line 5\nPython-dotenv could not parse statement starting at line 5\nPython-dotenv could not parse statement starting at line 5\nPython-dotenv could not parse statement starting at line 5\nPython-dotenv could not parse statement starting at line 5\nPython-dotenv could not parse statement starting at line 5\nPython-dotenv could not parse statement starting at line 5\nPython-dotenv could not parse statement starting at line 5\nRate limit reached. Sleeping for: 784\nPython-dotenv could not parse statement starting at line 5\nPython-dotenv could not parse statement starting at line 5\nPython-dotenv could not parse statement starting at line 5\nPython-dotenv could not parse statement starting at line 5\nPython-dotenv could not parse statement starting at line 5\nPython-dotenv could not parse statement starting at line 5\nPython-dotenv could not parse statement starting at line 5\nPython-dotenv could not parse statement starting at line 5\nPython-dotenv could not parse statement starting at line 5\nPython-dotenv could not parse statement starting at line 5\nPython-dotenv could not parse statement starting at line 5\nPython-dotenv could not parse statement starting at line 5\nPython-dotenv could not parse statement starting at line 5\nPython-dotenv could not parse statement starting at line 5\nPython-dotenv could not parse statement starting at line 5\nPython-dotenv could not parse statement starting at line 5\nPython-dotenv could not parse statement starting at line 5\nPython-dotenv could not parse statement starting at line 5\nPython-dotenv could not parse statement starting at line 5\nPython-dotenv could not parse statement starting at line 5\nPython-dotenv could not parse statement starting at line 5\nPython-dotenv could not parse statement starting at line 5\nPython-dotenv could not parse statement starting at line 5\nPython-dotenv could not parse statement starting at line 5\nPython-dotenv could not parse statement starting at line 5\nPython-dotenv could not parse statement starting at line 5\nPython-dotenv could not parse statement starting at line 5\nPython-dotenv could not parse statement starting at line 5\nPython-dotenv could not parse statement starting at line 5\nPython-dotenv could not parse statement starting at line 5\nPython-dotenv could not parse statement starting at line 5\nPython-dotenv could not parse statement starting at line 5\nPython-dotenv could not parse statement starting at line 5\nPython-dotenv could not parse statement starting at line 5\nPython-dotenv could not parse statement starting at line 5\nPython-dotenv could not parse statement starting at line 5\nPython-dotenv could not parse statement starting at line 5\nPython-dotenv could not parse statement starting at line 5\nPython-dotenv could not parse statement starting at line 5\nPython-dotenv could not parse statement starting at line 5\nPython-dotenv could not parse statement starting at line 5\nPython-dotenv could not parse statement starting at line 5\nPython-dotenv could not parse statement starting at line 5\nPython-dotenv could not parse statement starting at line 5\nPython-dotenv could not parse statement starting at line 5\nPython-dotenv could not parse statement starting at line 5\nPython-dotenv could not parse statement starting at line 5\nPython-dotenv could not parse statement starting at line 5\nPython-dotenv could not parse statement starting at line 5\nPython-dotenv could not parse statement starting at line 5\nPython-dotenv could not parse statement starting at line 5\nPython-dotenv could not parse statement starting at line 5\nPython-dotenv could not parse statement starting at line 5\nPython-dotenv could not parse statement starting at line 5\nPython-dotenv could not parse statement starting at line 5\nPython-dotenv could not parse statement starting at line 5\nPython-dotenv could not parse statement starting at line 5\nPython-dotenv could not parse statement starting at line 5\nPython-dotenv could not parse statement starting at line 5\nPython-dotenv could not parse statement starting at line 5\nPython-dotenv could not parse statement starting at line 5\nPython-dotenv could not parse statement starting at line 5\nPython-dotenv could not parse statement starting at line 5\nPython-dotenv could not parse statement starting at line 5\nRate limit reached. Sleeping for: 793\nPython-dotenv could not parse statement starting at line 5\n"
    },
    {
     "data": {
      "text/html": "<div>\n<style scoped>\n    .dataframe tbody tr th:only-of-type {\n        vertical-align: middle;\n    }\n\n    .dataframe tbody tr th {\n        vertical-align: top;\n    }\n\n    .dataframe thead th {\n        text-align: right;\n    }\n</style>\n<table border=\"1\" class=\"dataframe\">\n  <thead>\n    <tr style=\"text-align: right;\">\n      <th></th>\n      <th>Ranking</th>\n      <th>Nombre</th>\n      <th>Empresa</th>\n      <th>Fecha</th>\n      <th>Genero</th>\n      <th>Ventas_Globales</th>\n      <th>Contador</th>\n    </tr>\n  </thead>\n  <tbody>\n    <tr>\n      <th>0</th>\n      <td>119</td>\n      <td>Gears of War 2</td>\n      <td>Microsoft</td>\n      <td>2008</td>\n      <td>Disparos</td>\n      <td>6.76</td>\n      <td>28</td>\n    </tr>\n    <tr>\n      <th>1</th>\n      <td>99</td>\n      <td>Call of Duty: World at War</td>\n      <td>Microsoft</td>\n      <td>2008</td>\n      <td>Disparos</td>\n      <td>7.37</td>\n      <td>3</td>\n    </tr>\n    <tr>\n      <th>2</th>\n      <td>52</td>\n      <td>Grand Theft Auto IV</td>\n      <td>Microsoft</td>\n      <td>2008</td>\n      <td>Accion</td>\n      <td>11.02</td>\n      <td>7</td>\n    </tr>\n    <tr>\n      <th>3</th>\n      <td>161</td>\n      <td>Forza Motorsport 3</td>\n      <td>Microsoft</td>\n      <td>2009</td>\n      <td>Carreras</td>\n      <td>5.51</td>\n      <td>1</td>\n    </tr>\n    <tr>\n      <th>4</th>\n      <td>134</td>\n      <td>Halo 3: ODST</td>\n      <td>Microsoft</td>\n      <td>2009</td>\n      <td>Disparos</td>\n      <td>6.36</td>\n      <td>16</td>\n    </tr>\n    <tr>\n      <th>5</th>\n      <td>37</td>\n      <td>Call of Duty: Modern Warfare 2</td>\n      <td>Microsoft</td>\n      <td>2009</td>\n      <td>Disparos</td>\n      <td>13.51</td>\n      <td>21</td>\n    </tr>\n    <tr>\n      <th>6</th>\n      <td>63</td>\n      <td>Halo: Reach</td>\n      <td>Microsoft</td>\n      <td>2010</td>\n      <td>Disparos</td>\n      <td>9.88</td>\n      <td>150</td>\n    </tr>\n    <tr>\n      <th>7</th>\n      <td>32</td>\n      <td>Call of Duty: Black Ops</td>\n      <td>Microsoft</td>\n      <td>2010</td>\n      <td>Disparos</td>\n      <td>14.64</td>\n      <td>411</td>\n    </tr>\n    <tr>\n      <th>8</th>\n      <td>16</td>\n      <td>Kinect Adventures!</td>\n      <td>Microsoft</td>\n      <td>2010</td>\n      <td>Etc</td>\n      <td>21.82</td>\n      <td>0</td>\n    </tr>\n    <tr>\n      <th>9</th>\n      <td>100</td>\n      <td>Battlefield 3</td>\n      <td>Microsoft</td>\n      <td>2011</td>\n      <td>Disparos</td>\n      <td>7.34</td>\n      <td>288</td>\n    </tr>\n    <tr>\n      <th>10</th>\n      <td>76</td>\n      <td>The Elder Scrolls V: Skyrim</td>\n      <td>Microsoft</td>\n      <td>2011</td>\n      <td>Rol</td>\n      <td>8.84</td>\n      <td>11</td>\n    </tr>\n    <tr>\n      <th>11</th>\n      <td>30</td>\n      <td>Call of Duty: Modern Warfare 3</td>\n      <td>Microsoft</td>\n      <td>2011</td>\n      <td>Disparos</td>\n      <td>14.76</td>\n      <td>12</td>\n    </tr>\n    <tr>\n      <th>12</th>\n      <td>173</td>\n      <td>Assassin's Creed III</td>\n      <td>Microsoft</td>\n      <td>2012</td>\n      <td>Accion</td>\n      <td>5.30</td>\n      <td>9</td>\n    </tr>\n    <tr>\n      <th>13</th>\n      <td>66</td>\n      <td>Halo 4</td>\n      <td>Microsoft</td>\n      <td>2012</td>\n      <td>Disparos</td>\n      <td>9.76</td>\n      <td>131</td>\n    </tr>\n    <tr>\n      <th>14</th>\n      <td>36</td>\n      <td>Call of Duty: Black Ops II</td>\n      <td>Microsoft</td>\n      <td>2012</td>\n      <td>Disparos</td>\n      <td>13.73</td>\n      <td>5</td>\n    </tr>\n    <tr>\n      <th>15</th>\n      <td>73</td>\n      <td>Minecraft</td>\n      <td>Microsoft</td>\n      <td>2013</td>\n      <td>Etc</td>\n      <td>9.20</td>\n      <td>30879</td>\n    </tr>\n    <tr>\n      <th>16</th>\n      <td>62</td>\n      <td>Call of Duty: Ghosts</td>\n      <td>Microsoft</td>\n      <td>2013</td>\n      <td>Disparos</td>\n      <td>10.21</td>\n      <td>30</td>\n    </tr>\n    <tr>\n      <th>17</th>\n      <td>24</td>\n      <td>Grand Theft Auto V</td>\n      <td>Microsoft</td>\n      <td>2013</td>\n      <td>Accion</td>\n      <td>16.38</td>\n      <td>627</td>\n    </tr>\n    <tr>\n      <th>18</th>\n      <td>258</td>\n      <td>Call of Duty: Advanced Warfare</td>\n      <td>Microsoft</td>\n      <td>2014</td>\n      <td>Disparos</td>\n      <td>4.31</td>\n      <td>11</td>\n    </tr>\n    <tr>\n      <th>19</th>\n      <td>198</td>\n      <td>Grand Theft Auto V</td>\n      <td>Microsoft</td>\n      <td>2014</td>\n      <td>Accion</td>\n      <td>5.08</td>\n      <td>627</td>\n    </tr>\n    <tr>\n      <th>20</th>\n      <td>194</td>\n      <td>Call of Duty: Advanced Warfare</td>\n      <td>Microsoft</td>\n      <td>2014</td>\n      <td>Disparos</td>\n      <td>5.13</td>\n      <td>11</td>\n    </tr>\n    <tr>\n      <th>21</th>\n      <td>288</td>\n      <td>Fallout 4</td>\n      <td>Microsoft</td>\n      <td>2015</td>\n      <td>Rol</td>\n      <td>4.09</td>\n      <td>170</td>\n    </tr>\n    <tr>\n      <th>22</th>\n      <td>261</td>\n      <td>Halo 5: Guardians</td>\n      <td>Microsoft</td>\n      <td>2015</td>\n      <td>Disparos</td>\n      <td>4.26</td>\n      <td>8</td>\n    </tr>\n    <tr>\n      <th>23</th>\n      <td>102</td>\n      <td>Call of Duty: Black Ops 3</td>\n      <td>Microsoft</td>\n      <td>2015</td>\n      <td>Disparos</td>\n      <td>7.30</td>\n      <td>10</td>\n    </tr>\n    <tr>\n      <th>24</th>\n      <td>2446</td>\n      <td>Overwatch</td>\n      <td>Microsoft</td>\n      <td>2016</td>\n      <td>Disparos</td>\n      <td>0.85</td>\n      <td>4445</td>\n    </tr>\n    <tr>\n      <th>25</th>\n      <td>1226</td>\n      <td>FIFA 17</td>\n      <td>Microsoft</td>\n      <td>2016</td>\n      <td>Deportes</td>\n      <td>1.53</td>\n      <td>334</td>\n    </tr>\n    <tr>\n      <th>26</th>\n      <td>847</td>\n      <td>Tom Clancy's The Division</td>\n      <td>Microsoft</td>\n      <td>2016</td>\n      <td>Disparos</td>\n      <td>2.01</td>\n      <td>49</td>\n    </tr>\n    <tr>\n      <th>27</th>\n      <td>149</td>\n      <td>LittleBigPlanet</td>\n      <td>Sony</td>\n      <td>2008</td>\n      <td>Plataformas</td>\n      <td>5.92</td>\n      <td>9</td>\n    </tr>\n    <tr>\n      <th>28</th>\n      <td>145</td>\n      <td>Metal Gear Solid 4: Guns of the Patriots</td>\n      <td>Sony</td>\n      <td>2008</td>\n      <td>Accion</td>\n      <td>6.03</td>\n      <td>0</td>\n    </tr>\n    <tr>\n      <th>29</th>\n      <td>57</td>\n      <td>Grand Theft Auto IV</td>\n      <td>Sony</td>\n      <td>2008</td>\n      <td>Accion</td>\n      <td>10.57</td>\n      <td>7</td>\n    </tr>\n    <tr>\n      <th>...</th>\n      <td>...</td>\n      <td>...</td>\n      <td>...</td>\n      <td>...</td>\n      <td>...</td>\n      <td>...</td>\n      <td>...</td>\n    </tr>\n    <tr>\n      <th>83</th>\n      <td>1570</td>\n      <td>Yokai Watch 3</td>\n      <td>Nintendo</td>\n      <td>2016</td>\n      <td>Accion</td>\n      <td>1.27</td>\n      <td>2</td>\n    </tr>\n    <tr>\n      <th>84</th>\n      <td>5959</td>\n      <td>Imagine: Makeup Artist</td>\n      <td>Nintendo</td>\n      <td>2020</td>\n      <td>Simulacion</td>\n      <td>0.29</td>\n      <td>0</td>\n    </tr>\n    <tr>\n      <th>85</th>\n      <td>1763</td>\n      <td>Worldwide Soccer Manager 2009</td>\n      <td>Ordenador</td>\n      <td>2008</td>\n      <td>Simulacion</td>\n      <td>1.15</td>\n      <td>0</td>\n    </tr>\n    <tr>\n      <th>86</th>\n      <td>1719</td>\n      <td>Spore</td>\n      <td>Ordenador</td>\n      <td>2008</td>\n      <td>Estrategia</td>\n      <td>1.17</td>\n      <td>91</td>\n    </tr>\n    <tr>\n      <th>87</th>\n      <td>1488</td>\n      <td>World of Warcraft: Wrath of the Lich King</td>\n      <td>Ordenador</td>\n      <td>2008</td>\n      <td>Rol</td>\n      <td>1.32</td>\n      <td>0</td>\n    </tr>\n    <tr>\n      <th>88</th>\n      <td>2349</td>\n      <td>Call of Duty: Modern Warfare 2</td>\n      <td>Ordenador</td>\n      <td>2009</td>\n      <td>Disparos</td>\n      <td>0.89</td>\n      <td>21</td>\n    </tr>\n    <tr>\n      <th>89</th>\n      <td>1884</td>\n      <td>Empire: Total War</td>\n      <td>Ordenador</td>\n      <td>2009</td>\n      <td>Estrategia</td>\n      <td>1.09</td>\n      <td>6</td>\n    </tr>\n    <tr>\n      <th>90</th>\n      <td>84</td>\n      <td>The Sims 3</td>\n      <td>Ordenador</td>\n      <td>2009</td>\n      <td>Simulacion</td>\n      <td>8.11</td>\n      <td>29</td>\n    </tr>\n    <tr>\n      <th>91</th>\n      <td>1042</td>\n      <td>The Sims 3: Late Night Expansion Pack</td>\n      <td>Ordenador</td>\n      <td>2010</td>\n      <td>Simulacion</td>\n      <td>1.71</td>\n      <td>0</td>\n    </tr>\n    <tr>\n      <th>92</th>\n      <td>801</td>\n      <td>World of Warcraft: Cataclysm</td>\n      <td>Ordenador</td>\n      <td>2010</td>\n      <td>Rol</td>\n      <td>2.08</td>\n      <td>0</td>\n    </tr>\n    <tr>\n      <th>93</th>\n      <td>218</td>\n      <td>StarCraft II: Wings of Liberty</td>\n      <td>Ordenador</td>\n      <td>2010</td>\n      <td>Estrategia</td>\n      <td>4.83</td>\n      <td>0</td>\n    </tr>\n    <tr>\n      <th>94</th>\n      <td>534</td>\n      <td>Battlefield 3</td>\n      <td>Ordenador</td>\n      <td>2011</td>\n      <td>Disparos</td>\n      <td>2.79</td>\n      <td>289</td>\n    </tr>\n    <tr>\n      <th>95</th>\n      <td>480</td>\n      <td>Star Wars: The Old Republic</td>\n      <td>Ordenador</td>\n      <td>2011</td>\n      <td>Rol</td>\n      <td>2.97</td>\n      <td>52</td>\n    </tr>\n    <tr>\n      <th>96</th>\n      <td>311</td>\n      <td>The Elder Scrolls V: Skyrim</td>\n      <td>Ordenador</td>\n      <td>2011</td>\n      <td>Rol</td>\n      <td>3.88</td>\n      <td>11</td>\n    </tr>\n    <tr>\n      <th>97</th>\n      <td>947</td>\n      <td>World of Warcraft: Mists of Pandaria</td>\n      <td>Ordenador</td>\n      <td>2012</td>\n      <td>Rol</td>\n      <td>1.83</td>\n      <td>0</td>\n    </tr>\n    <tr>\n      <th>98</th>\n      <td>693</td>\n      <td>Guild Wars 2</td>\n      <td>Ordenador</td>\n      <td>2012</td>\n      <td>Accion</td>\n      <td>2.30</td>\n      <td>124</td>\n    </tr>\n    <tr>\n      <th>99</th>\n      <td>182</td>\n      <td>Diablo III</td>\n      <td>Ordenador</td>\n      <td>2012</td>\n      <td>Rol</td>\n      <td>5.20</td>\n      <td>81</td>\n    </tr>\n    <tr>\n      <th>100</th>\n      <td>1388</td>\n      <td>Battlefield 4</td>\n      <td>Ordenador</td>\n      <td>2013</td>\n      <td>Disparos</td>\n      <td>1.40</td>\n      <td>82</td>\n    </tr>\n    <tr>\n      <th>101</th>\n      <td>1337</td>\n      <td>SimCity (2013)</td>\n      <td>Ordenador</td>\n      <td>2013</td>\n      <td>Simulacion</td>\n      <td>1.44</td>\n      <td>2</td>\n    </tr>\n    <tr>\n      <th>102</th>\n      <td>1094</td>\n      <td>StarCraft II: Heart of the Swarm</td>\n      <td>Ordenador</td>\n      <td>2013</td>\n      <td>Estrategia</td>\n      <td>1.67</td>\n      <td>0</td>\n    </tr>\n    <tr>\n      <th>103</th>\n      <td>2317</td>\n      <td>The Elder Scrolls Online</td>\n      <td>Ordenador</td>\n      <td>2014</td>\n      <td>Rol</td>\n      <td>0.90</td>\n      <td>114</td>\n    </tr>\n    <tr>\n      <th>104</th>\n      <td>1619</td>\n      <td>Farming Simulator 2015</td>\n      <td>Ordenador</td>\n      <td>2014</td>\n      <td>Simulacion</td>\n      <td>1.23</td>\n      <td>0</td>\n    </tr>\n    <tr>\n      <th>105</th>\n      <td>479</td>\n      <td>The Sims 4</td>\n      <td>Ordenador</td>\n      <td>2014</td>\n      <td>Simulacion</td>\n      <td>2.97</td>\n      <td>521</td>\n    </tr>\n    <tr>\n      <th>106</th>\n      <td>3028</td>\n      <td>The Witcher 3: Wild Hunt</td>\n      <td>Ordenador</td>\n      <td>2015</td>\n      <td>Rol</td>\n      <td>0.67</td>\n      <td>91</td>\n    </tr>\n    <tr>\n      <th>107</th>\n      <td>1898</td>\n      <td>Grand Theft Auto V</td>\n      <td>Ordenador</td>\n      <td>2015</td>\n      <td>Accion</td>\n      <td>1.08</td>\n      <td>628</td>\n    </tr>\n    <tr>\n      <th>108</th>\n      <td>1632</td>\n      <td>Fallout 4</td>\n      <td>Ordenador</td>\n      <td>2015</td>\n      <td>Rol</td>\n      <td>1.23</td>\n      <td>170</td>\n    </tr>\n    <tr>\n      <th>109</th>\n      <td>6089</td>\n      <td>World of Warcraft: Legion</td>\n      <td>Ordenador</td>\n      <td>2016</td>\n      <td>Rol</td>\n      <td>0.29</td>\n      <td>0</td>\n    </tr>\n    <tr>\n      <th>110</th>\n      <td>5106</td>\n      <td>Tom Clancy's The Division</td>\n      <td>Ordenador</td>\n      <td>2016</td>\n      <td>Disparos</td>\n      <td>0.37</td>\n      <td>49</td>\n    </tr>\n    <tr>\n      <th>111</th>\n      <td>4511</td>\n      <td>Overwatch</td>\n      <td>Ordenador</td>\n      <td>2016</td>\n      <td>Disparos</td>\n      <td>0.43</td>\n      <td>4454</td>\n    </tr>\n    <tr>\n      <th>112</th>\n      <td>13960</td>\n      <td>Pia Carrot e Youkoso!! 2.5</td>\n      <td>Sega</td>\n      <td>2008</td>\n      <td>Aventura</td>\n      <td>0.04</td>\n      <td>0</td>\n    </tr>\n  </tbody>\n</table>\n<p>113 rows × 7 columns</p>\n</div>",
      "text/plain": "     Ranking                                     Nombre    Empresa  Fecha  \\\n0        119                             Gears of War 2  Microsoft   2008   \n1         99                 Call of Duty: World at War  Microsoft   2008   \n2         52                        Grand Theft Auto IV  Microsoft   2008   \n3        161                         Forza Motorsport 3  Microsoft   2009   \n4        134                               Halo 3: ODST  Microsoft   2009   \n5         37             Call of Duty: Modern Warfare 2  Microsoft   2009   \n6         63                                Halo: Reach  Microsoft   2010   \n7         32                    Call of Duty: Black Ops  Microsoft   2010   \n8         16                         Kinect Adventures!  Microsoft   2010   \n9        100                              Battlefield 3  Microsoft   2011   \n10        76                The Elder Scrolls V: Skyrim  Microsoft   2011   \n11        30             Call of Duty: Modern Warfare 3  Microsoft   2011   \n12       173                       Assassin's Creed III  Microsoft   2012   \n13        66                                     Halo 4  Microsoft   2012   \n14        36                 Call of Duty: Black Ops II  Microsoft   2012   \n15        73                                  Minecraft  Microsoft   2013   \n16        62                       Call of Duty: Ghosts  Microsoft   2013   \n17        24                         Grand Theft Auto V  Microsoft   2013   \n18       258             Call of Duty: Advanced Warfare  Microsoft   2014   \n19       198                         Grand Theft Auto V  Microsoft   2014   \n20       194             Call of Duty: Advanced Warfare  Microsoft   2014   \n21       288                                  Fallout 4  Microsoft   2015   \n22       261                          Halo 5: Guardians  Microsoft   2015   \n23       102                  Call of Duty: Black Ops 3  Microsoft   2015   \n24      2446                                  Overwatch  Microsoft   2016   \n25      1226                                    FIFA 17  Microsoft   2016   \n26       847                  Tom Clancy's The Division  Microsoft   2016   \n27       149                            LittleBigPlanet       Sony   2008   \n28       145   Metal Gear Solid 4: Guns of the Patriots       Sony   2008   \n29        57                        Grand Theft Auto IV       Sony   2008   \n..       ...                                        ...        ...    ...   \n83      1570                              Yokai Watch 3   Nintendo   2016   \n84      5959                     Imagine: Makeup Artist   Nintendo   2020   \n85      1763              Worldwide Soccer Manager 2009  Ordenador   2008   \n86      1719                                      Spore  Ordenador   2008   \n87      1488  World of Warcraft: Wrath of the Lich King  Ordenador   2008   \n88      2349             Call of Duty: Modern Warfare 2  Ordenador   2009   \n89      1884                          Empire: Total War  Ordenador   2009   \n90        84                                 The Sims 3  Ordenador   2009   \n91      1042      The Sims 3: Late Night Expansion Pack  Ordenador   2010   \n92       801               World of Warcraft: Cataclysm  Ordenador   2010   \n93       218             StarCraft II: Wings of Liberty  Ordenador   2010   \n94       534                              Battlefield 3  Ordenador   2011   \n95       480                Star Wars: The Old Republic  Ordenador   2011   \n96       311                The Elder Scrolls V: Skyrim  Ordenador   2011   \n97       947       World of Warcraft: Mists of Pandaria  Ordenador   2012   \n98       693                               Guild Wars 2  Ordenador   2012   \n99       182                                 Diablo III  Ordenador   2012   \n100     1388                              Battlefield 4  Ordenador   2013   \n101     1337                             SimCity (2013)  Ordenador   2013   \n102     1094           StarCraft II: Heart of the Swarm  Ordenador   2013   \n103     2317                   The Elder Scrolls Online  Ordenador   2014   \n104     1619                     Farming Simulator 2015  Ordenador   2014   \n105      479                                 The Sims 4  Ordenador   2014   \n106     3028                   The Witcher 3: Wild Hunt  Ordenador   2015   \n107     1898                         Grand Theft Auto V  Ordenador   2015   \n108     1632                                  Fallout 4  Ordenador   2015   \n109     6089                  World of Warcraft: Legion  Ordenador   2016   \n110     5106                  Tom Clancy's The Division  Ordenador   2016   \n111     4511                                  Overwatch  Ordenador   2016   \n112    13960                 Pia Carrot e Youkoso!! 2.5       Sega   2008   \n\n          Genero  Ventas_Globales  Contador  \n0       Disparos             6.76        28  \n1       Disparos             7.37         3  \n2         Accion            11.02         7  \n3       Carreras             5.51         1  \n4       Disparos             6.36        16  \n5       Disparos            13.51        21  \n6       Disparos             9.88       150  \n7       Disparos            14.64       411  \n8            Etc            21.82         0  \n9       Disparos             7.34       288  \n10           Rol             8.84        11  \n11      Disparos            14.76        12  \n12        Accion             5.30         9  \n13      Disparos             9.76       131  \n14      Disparos            13.73         5  \n15           Etc             9.20     30879  \n16      Disparos            10.21        30  \n17        Accion            16.38       627  \n18      Disparos             4.31        11  \n19        Accion             5.08       627  \n20      Disparos             5.13        11  \n21           Rol             4.09       170  \n22      Disparos             4.26         8  \n23      Disparos             7.30        10  \n24      Disparos             0.85      4445  \n25      Deportes             1.53       334  \n26      Disparos             2.01        49  \n27   Plataformas             5.92         9  \n28        Accion             6.03         0  \n29        Accion            10.57         7  \n..           ...              ...       ...  \n83        Accion             1.27         2  \n84    Simulacion             0.29         0  \n85    Simulacion             1.15         0  \n86    Estrategia             1.17        91  \n87           Rol             1.32         0  \n88      Disparos             0.89        21  \n89    Estrategia             1.09         6  \n90    Simulacion             8.11        29  \n91    Simulacion             1.71         0  \n92           Rol             2.08         0  \n93    Estrategia             4.83         0  \n94      Disparos             2.79       289  \n95           Rol             2.97        52  \n96           Rol             3.88        11  \n97           Rol             1.83         0  \n98        Accion             2.30       124  \n99           Rol             5.20        81  \n100     Disparos             1.40        82  \n101   Simulacion             1.44         2  \n102   Estrategia             1.67         0  \n103          Rol             0.90       114  \n104   Simulacion             1.23         0  \n105   Simulacion             2.97       521  \n106          Rol             0.67        91  \n107       Accion             1.08       628  \n108          Rol             1.23       170  \n109          Rol             0.29         0  \n110     Disparos             0.37        49  \n111     Disparos             0.43      4454  \n112     Aventura             0.04         0  \n\n[113 rows x 7 columns]"
     },
     "execution_count": 18,
     "metadata": {},
     "output_type": "execute_result"
    }
   ],
   "source": [
    "df5[\"Contador\"] = df5[\"Nombre\"].apply(twitt_counts)\n",
    "\n",
    "df5\n",
    "\n"
   ]
  },
  {
   "cell_type": "markdown",
   "execution_count": null,
   "metadata": {},
   "outputs": [],
   "source": [
    "**Cacheamos los resultados para evitar usos de API innecesarios**"
   ]
  },
  {
   "cell_type": "code",
   "execution_count": 25,
   "metadata": {},
   "outputs": [
    {
     "data": {
      "text/html": "<div>\n<style scoped>\n    .dataframe tbody tr th:only-of-type {\n        vertical-align: middle;\n    }\n\n    .dataframe tbody tr th {\n        vertical-align: top;\n    }\n\n    .dataframe thead th {\n        text-align: right;\n    }\n</style>\n<table border=\"1\" class=\"dataframe\">\n  <thead>\n    <tr style=\"text-align: right;\">\n      <th></th>\n      <th>Ranking</th>\n      <th>Nombre</th>\n      <th>Empresa</th>\n      <th>Fecha</th>\n      <th>Genero</th>\n      <th>Ventas_Globales</th>\n      <th>Contador</th>\n    </tr>\n  </thead>\n  <tbody>\n    <tr>\n      <th>0</th>\n      <td>119</td>\n      <td>Gears of War 2</td>\n      <td>Microsoft</td>\n      <td>2008</td>\n      <td>Disparos</td>\n      <td>6.76</td>\n      <td>28</td>\n    </tr>\n    <tr>\n      <th>1</th>\n      <td>99</td>\n      <td>Call of Duty: World at War</td>\n      <td>Microsoft</td>\n      <td>2008</td>\n      <td>Disparos</td>\n      <td>7.37</td>\n      <td>3</td>\n    </tr>\n    <tr>\n      <th>2</th>\n      <td>52</td>\n      <td>Grand Theft Auto IV</td>\n      <td>Microsoft</td>\n      <td>2008</td>\n      <td>Accion</td>\n      <td>11.02</td>\n      <td>7</td>\n    </tr>\n    <tr>\n      <th>3</th>\n      <td>161</td>\n      <td>Forza Motorsport 3</td>\n      <td>Microsoft</td>\n      <td>2009</td>\n      <td>Carreras</td>\n      <td>5.51</td>\n      <td>1</td>\n    </tr>\n    <tr>\n      <th>4</th>\n      <td>134</td>\n      <td>Halo 3: ODST</td>\n      <td>Microsoft</td>\n      <td>2009</td>\n      <td>Disparos</td>\n      <td>6.36</td>\n      <td>16</td>\n    </tr>\n  </tbody>\n</table>\n</div>",
      "text/plain": "   Ranking                      Nombre    Empresa  Fecha    Genero  \\\n0      119              Gears of War 2  Microsoft   2008  Disparos   \n1       99  Call of Duty: World at War  Microsoft   2008  Disparos   \n2       52         Grand Theft Auto IV  Microsoft   2008    Accion   \n3      161          Forza Motorsport 3  Microsoft   2009  Carreras   \n4      134                Halo 3: ODST  Microsoft   2009  Disparos   \n\n   Ventas_Globales  Contador  \n0             6.76        28  \n1             7.37         3  \n2            11.02         7  \n3             5.51         1  \n4             6.36        16  "
     },
     "execution_count": 25,
     "metadata": {},
     "output_type": "execute_result"
    }
   ],
   "source": [
    "df5.to_csv('Twitts_tratados.csv')\n",
    "\n",
    "df5.head(5)\n"
   ]
  },
  {
   "cell_type": "markdown",
   "execution_count": null,
   "metadata": {},
   "outputs": [],
   "source": [
    "## Análisis de los resultados"
   ]
  },
  {
   "cell_type": "markdown",
   "execution_count": null,
   "metadata": {},
   "outputs": [],
   "source": [
    "**Juegos más comentados en los últimos 7 días**"
   ]
  },
  {
   "cell_type": "code",
   "execution_count": 63,
   "metadata": {},
   "outputs": [
    {
     "data": {
      "text/html": "<div>\n<style scoped>\n    .dataframe tbody tr th:only-of-type {\n        vertical-align: middle;\n    }\n\n    .dataframe tbody tr th {\n        vertical-align: top;\n    }\n\n    .dataframe thead th {\n        text-align: right;\n    }\n</style>\n<table border=\"1\" class=\"dataframe\">\n  <thead>\n    <tr style=\"text-align: right;\">\n      <th></th>\n      <th>Contador</th>\n    </tr>\n    <tr>\n      <th>Nombre</th>\n      <th></th>\n    </tr>\n  </thead>\n  <tbody>\n    <tr>\n      <th>Minecraft</th>\n      <td>30879</td>\n    </tr>\n    <tr>\n      <th>Overwatch</th>\n      <td>8899</td>\n    </tr>\n    <tr>\n      <th>Grand Theft Auto V</th>\n      <td>3136</td>\n    </tr>\n    <tr>\n      <th>FIFA 15</th>\n      <td>2537</td>\n    </tr>\n    <tr>\n      <th>FIFA 14</th>\n      <td>1096</td>\n    </tr>\n    <tr>\n      <th>Battlefield 3</th>\n      <td>866</td>\n    </tr>\n    <tr>\n      <th>Call of Duty: Black Ops</th>\n      <td>826</td>\n    </tr>\n    <tr>\n      <th>FIFA 17</th>\n      <td>668</td>\n    </tr>\n    <tr>\n      <th>Red Dead Redemption</th>\n      <td>618</td>\n    </tr>\n    <tr>\n      <th>Splatoon</th>\n      <td>585</td>\n    </tr>\n  </tbody>\n</table>\n</div>",
      "text/plain": "                         Contador\nNombre                           \nMinecraft                   30879\nOverwatch                    8899\nGrand Theft Auto V           3136\nFIFA 15                      2537\nFIFA 14                      1096\nBattlefield 3                 866\nCall of Duty: Black Ops       826\nFIFA 17                       668\nRed Dead Redemption           618\nSplatoon                      585"
     },
     "execution_count": 63,
     "metadata": {},
     "output_type": "execute_result"
    }
   ],
   "source": [
    "df6 = df5\n",
    "\n",
    "df7 = df6.groupby(['Nombre']).sum().sort_values('Contador', ascending=False).reset_index()\n",
    "\n",
    "df7[['Nombre','Contador']].set_index('Nombre').head(10)"
   ]
  },
  {
   "cell_type": "markdown",
   "execution_count": null,
   "metadata": {},
   "outputs": [],
   "source": [
    "**Géneros más comentados en los últimos 7 días**"
   ]
  },
  {
   "cell_type": "code",
   "execution_count": 82,
   "metadata": {},
   "outputs": [
    {
     "data": {
      "text/html": "<div>\n<style scoped>\n    .dataframe tbody tr th:only-of-type {\n        vertical-align: middle;\n    }\n\n    .dataframe tbody tr th {\n        vertical-align: top;\n    }\n\n    .dataframe thead th {\n        text-align: right;\n    }\n</style>\n<table border=\"1\" class=\"dataframe\">\n  <thead>\n    <tr style=\"text-align: right;\">\n      <th></th>\n      <th>Contador</th>\n    </tr>\n    <tr>\n      <th>Genero</th>\n      <th></th>\n    </tr>\n  </thead>\n  <tbody>\n    <tr>\n      <th>Etc</th>\n      <td>30933</td>\n    </tr>\n    <tr>\n      <th>Disparos</th>\n      <td>11952</td>\n    </tr>\n    <tr>\n      <th>Deportes</th>\n      <td>4785</td>\n    </tr>\n    <tr>\n      <th>Accion</th>\n      <td>3945</td>\n    </tr>\n    <tr>\n      <th>Rol</th>\n      <td>979</td>\n    </tr>\n    <tr>\n      <th>Simulacion</th>\n      <td>681</td>\n    </tr>\n    <tr>\n      <th>Carreras</th>\n      <td>501</td>\n    </tr>\n    <tr>\n      <th>Plataformas</th>\n      <td>198</td>\n    </tr>\n    <tr>\n      <th>Estrategia</th>\n      <td>97</td>\n    </tr>\n    <tr>\n      <th>Lucha</th>\n      <td>25</td>\n    </tr>\n  </tbody>\n</table>\n</div>",
      "text/plain": "             Contador\nGenero               \nEtc             30933\nDisparos        11952\nDeportes         4785\nAccion           3945\nRol               979\nSimulacion        681\nCarreras          501\nPlataformas       198\nEstrategia         97\nLucha              25"
     },
     "execution_count": 82,
     "metadata": {},
     "output_type": "execute_result"
    }
   ],
   "source": [
    "df8 = df6.groupby(['Genero']).sum().sort_values('Contador', ascending=False).reset_index()\n",
    "\n",
    "df8[['Genero','Contador']].set_index('Genero').head(10)"
   ]
  },
  {
   "cell_type": "markdown",
   "execution_count": null,
   "metadata": {},
   "outputs": [],
   "source": [
    "**Relación de ventas con las interacciones en Twitter --> No hay correlación**"
   ]
  },
  {
   "cell_type": "code",
   "execution_count": 86,
   "metadata": {},
   "outputs": [
    {
     "data": {
      "text/html": "<div>\n<style scoped>\n    .dataframe tbody tr th:only-of-type {\n        vertical-align: middle;\n    }\n\n    .dataframe tbody tr th {\n        vertical-align: top;\n    }\n\n    .dataframe thead th {\n        text-align: right;\n    }\n</style>\n<table border=\"1\" class=\"dataframe\">\n  <thead>\n    <tr style=\"text-align: right;\">\n      <th></th>\n      <th>Ventas_Globales</th>\n      <th>Contador</th>\n    </tr>\n  </thead>\n  <tbody>\n    <tr>\n      <th>Ventas_Globales</th>\n      <td>1.000000</td>\n      <td>-0.001024</td>\n    </tr>\n    <tr>\n      <th>Contador</th>\n      <td>-0.001024</td>\n      <td>1.000000</td>\n    </tr>\n  </tbody>\n</table>\n</div>",
      "text/plain": "                 Ventas_Globales  Contador\nVentas_Globales         1.000000 -0.001024\nContador               -0.001024  1.000000"
     },
     "execution_count": 86,
     "metadata": {},
     "output_type": "execute_result"
    }
   ],
   "source": [
    "df9 = df6.groupby(['Ventas_Globales']).max().sort_values('Contador', ascending=False).reset_index()\n",
    "\n",
    "df9 = df9[['Ventas_Globales','Contador']]\n",
    "\n",
    "df9.corr(method=\"pearson\")\n"
   ]
  },
  {
   "cell_type": "code",
   "execution_count": 84,
   "metadata": {},
   "outputs": [
    {
     "data": {
      "text/plain": "<matplotlib.image.AxesImage at 0x7f5ca33aa198>"
     },
     "execution_count": 84,
     "metadata": {},
     "output_type": "execute_result"
    },
    {
     "data": {
      "image/png": "[encoded data removed]",
      "image/svg+xml": "<?xml version=\"1.0\" encoding=\"utf-8\" standalone=\"no\"?>\n<!DOCTYPE svg PUBLIC \"-//W3C//DTD SVG 1.1//EN\"\n  \"http://www.w3.org/Graphics/SVG/1.1/DTD/svg11.dtd\">\n<!-- Created with matplotlib (http://matplotlib.org/) -->\n<svg height=\"257pt\" version=\"1.1\" viewBox=\"0 0 254 257\" width=\"254pt\" xmlns=\"http://www.w3.org/2000/svg\" xmlns:xlink=\"http://www.w3.org/1999/xlink\">\n <defs>\n  <style type=\"text/css\">\n*{stroke-linecap:butt;stroke-linejoin:round;}\n  </style>\n </defs>\n <g id=\"figure_1\">\n  <g id=\"patch_1\">\n   <path d=\"M 0 257.778125 \nL 254.4625 257.778125 \nL 254.4625 0 \nL 0 0 \nz\n\" style=\"fill:none;\"/>\n  </g>\n  <g id=\"axes_1\">\n   <g id=\"patch_2\">\n    <path d=\"M 20.5625 247.078125 \nL 243.7625 247.078125 \nL 243.7625 23.878125 \nL 20.5625 23.878125 \nz\n\" style=\"fill:#ffffff;\"/>\n   </g>\n   <g clip-path=\"url(#p6af1d8d4eb)\">\n    <image height=\"224\" id=\"image7e50c83026\" transform=\"scale(1 -1)translate(0 -224)\" width=\"224\" x=\"20.5625\" xlink:href=\"data:image/png;base64,\niVBORw0KGgoAAAANSUhEUgAAAOAAAADgCAYAAAAaLWrhAAAABHNCSVQICAgIfAhkiAAAAqhJREFUeJzt1UENwlAAREE+MjgjABFNagCzdYEKUNG0HujhpemMgr287JjGe7txWsv3U0/ggHs9AK5MgBASIIQECCEBQkiAEBIghAQIIQFCSIAQEiCEBAghAUJIgBASIIQECCEBQkiAEBIghAQIIQFCSIAQEiCEBAghAUJIgBASIIQECCEBQkiAEBIghAQIIQFCSIAQEiCEBAghAUJIgBASIIQECCEBQkiAEBIghAQIIQFCSIAQEiCEBAghAUJIgBASIIQECCEBQkiAEBIghAQIIQFCSIAQEiCEBAghAUJIgBASIIQECCEBQkiAEBIghAQIIQFCSIAQEiCEBAghAUJIgBASIIQECCEBQkiAEBIghAQIIQFCSIAQEiCEBAghAUJIgBASIIQECCEBQkiAEBIghAQIIQFCSIAQEiCEBAghAUJIgBASIIQECCEBQkiAEBIghAQIIQFCSIAQEiCEBAghAUJIgBASIITG+ntu9Qj+Nz9e9QQO8IAQEiCEBAghAUJIgBASIIQECCEBQkiAEBIghAQIIQFCSIAQEiCEBAghAUJIgBASIIQECCEBQkiAEBIghAQIIQFCSIAQEiCEBAghAUJIgBASIIQECCEBQkiAEBIghAQIIQFCSIAQEiCEBAghAUJIgBASIIQECCEBQkiAEBIghAQIIQFCSIAQEiCEBAghAUJIgBASIIQECCEBQkiAEBIghAQIIQFCSIAQEiCEBAghAUJIgBASIIQECCEBQkiAEBIghAQIIQFCSIAQEiCEBAghAUJIgBASIIQECCEBQkiAEBIghAQIIQFCSIAQEiCEBAghAUJIgBASIIQECCEBQkiAEBIghAQIIQFCSIAQEiCEBAghAUJIgBASIIQECCEBQkiAEBIghAQIIQFCSIAQEiCEBAihHXaICV7Q03r9AAAAAElFTkSuQmCC\" y=\"-23.078125\"/>\n   </g>\n   <g id=\"matplotlib.axis_1\">\n    <g id=\"xtick_1\">\n     <g id=\"line2d_1\">\n      <defs>\n       <path d=\"M 0 0 \nL 0 3.5 \n\" id=\"m4c85b4921d\" style=\"stroke:#000000;stroke-width:0.8;\"/>\n      </defs>\n      <g>\n       <use style=\"stroke:#000000;stroke-width:0.8;\" x=\"76.3625\" xlink:href=\"#m4c85b4921d\" y=\"247.078125\"/>\n      </g>\n     </g>\n     <g id=\"line2d_2\">\n      <defs>\n       <path d=\"M 0 0 \nL 0 -3.5 \n\" id=\"m601d019264\" style=\"stroke:#000000;stroke-width:0.8;\"/>\n      </defs>\n      <g>\n       <use style=\"stroke:#000000;stroke-width:0.8;\" x=\"76.3625\" xlink:href=\"#m601d019264\" y=\"23.878125\"/>\n      </g>\n     </g>\n     <g id=\"text_1\">\n      <!-- 0 -->\n      <defs>\n       <path d=\"M 31.78125 66.40625 \nQ 24.171875 66.40625 20.328125 58.90625 \nQ 16.5 51.421875 16.5 36.375 \nQ 16.5 21.390625 20.328125 13.890625 \nQ 24.171875 6.390625 31.78125 6.390625 \nQ 39.453125 6.390625 43.28125 13.890625 \nQ 47.125 21.390625 47.125 36.375 \nQ 47.125 51.421875 43.28125 58.90625 \nQ 39.453125 66.40625 31.78125 66.40625 \nz\nM 31.78125 74.21875 \nQ 44.046875 74.21875 50.515625 64.515625 \nQ 56.984375 54.828125 56.984375 36.375 \nQ 56.984375 17.96875 50.515625 8.265625 \nQ 44.046875 -1.421875 31.78125 -1.421875 \nQ 19.53125 -1.421875 13.0625 8.265625 \nQ 6.59375 17.96875 6.59375 36.375 \nQ 6.59375 54.828125 13.0625 64.515625 \nQ 19.53125 74.21875 31.78125 74.21875 \nz\n\" id=\"DejaVuSans-30\"/>\n      </defs>\n      <g transform=\"translate(73.18125 14.798438)scale(0.1 -0.1)\">\n       <use xlink:href=\"#DejaVuSans-30\"/>\n      </g>\n     </g>\n    </g>\n    <g id=\"xtick_2\">\n     <g id=\"line2d_3\">\n      <g>\n       <use style=\"stroke:#000000;stroke-width:0.8;\" x=\"187.9625\" xlink:href=\"#m4c85b4921d\" y=\"247.078125\"/>\n      </g>\n     </g>\n     <g id=\"line2d_4\">\n      <g>\n       <use style=\"stroke:#000000;stroke-width:0.8;\" x=\"187.9625\" xlink:href=\"#m601d019264\" y=\"23.878125\"/>\n      </g>\n     </g>\n     <g id=\"text_2\">\n      <!-- 1 -->\n      <defs>\n       <path d=\"M 12.40625 8.296875 \nL 28.515625 8.296875 \nL 28.515625 63.921875 \nL 10.984375 60.40625 \nL 10.984375 69.390625 \nL 28.421875 72.90625 \nL 38.28125 72.90625 \nL 38.28125 8.296875 \nL 54.390625 8.296875 \nL 54.390625 0 \nL 12.40625 0 \nz\n\" id=\"DejaVuSans-31\"/>\n      </defs>\n      <g transform=\"translate(184.78125 14.798438)scale(0.1 -0.1)\">\n       <use xlink:href=\"#DejaVuSans-31\"/>\n      </g>\n     </g>\n    </g>\n   </g>\n   <g id=\"matplotlib.axis_2\">\n    <g id=\"ytick_1\">\n     <g id=\"line2d_5\">\n      <defs>\n       <path d=\"M 0 0 \nL -3.5 0 \n\" id=\"m0b639b1fd4\" style=\"stroke:#000000;stroke-width:0.8;\"/>\n      </defs>\n      <g>\n       <use style=\"stroke:#000000;stroke-width:0.8;\" x=\"20.5625\" xlink:href=\"#m0b639b1fd4\" y=\"79.678125\"/>\n      </g>\n     </g>\n     <g id=\"text_3\">\n      <!-- 0 -->\n      <g transform=\"translate(7.2 83.477344)scale(0.1 -0.1)\">\n       <use xlink:href=\"#DejaVuSans-30\"/>\n      </g>\n     </g>\n    </g>\n    <g id=\"ytick_2\">\n     <g id=\"line2d_6\">\n      <g>\n       <use style=\"stroke:#000000;stroke-width:0.8;\" x=\"20.5625\" xlink:href=\"#m0b639b1fd4\" y=\"191.278125\"/>\n      </g>\n     </g>\n     <g id=\"text_4\">\n      <!-- 1 -->\n      <g transform=\"translate(7.2 195.077344)scale(0.1 -0.1)\">\n       <use xlink:href=\"#DejaVuSans-31\"/>\n      </g>\n     </g>\n    </g>\n   </g>\n   <g id=\"patch_3\">\n    <path d=\"M 20.5625 247.078125 \nL 20.5625 23.878125 \n\" style=\"fill:none;stroke:#000000;stroke-linecap:square;stroke-linejoin:miter;stroke-width:0.8;\"/>\n   </g>\n   <g id=\"patch_4\">\n    <path d=\"M 243.7625 247.078125 \nL 243.7625 23.878125 \n\" style=\"fill:none;stroke:#000000;stroke-linecap:square;stroke-linejoin:miter;stroke-width:0.8;\"/>\n   </g>\n   <g id=\"patch_5\">\n    <path d=\"M 20.5625 247.078125 \nL 243.7625 247.078125 \n\" style=\"fill:none;stroke:#000000;stroke-linecap:square;stroke-linejoin:miter;stroke-width:0.8;\"/>\n   </g>\n   <g id=\"patch_6\">\n    <path d=\"M 20.5625 23.878125 \nL 243.7625 23.878125 \n\" style=\"fill:none;stroke:#000000;stroke-linecap:square;stroke-linejoin:miter;stroke-width:0.8;\"/>\n   </g>\n  </g>\n </g>\n <defs>\n  <clipPath id=\"p6af1d8d4eb\">\n   <rect height=\"223.2\" width=\"223.2\" x=\"20.5625\" y=\"23.878125\"/>\n  </clipPath>\n </defs>\n</svg>\n",
      "text/plain": "<matplotlib.figure.Figure at 0x7f5ca33d56d8>"
     },
     "metadata": {
      "needs_background": "light"
     },
     "output_type": "display_data"
    }
   ],
   "source": [
    "\n",
    "plt.matshow(df9.corr(method=\"pearson\"))"
   ]
  },
  {
   "cell_type": "code",
   "execution_count": 85,
   "metadata": {},
   "outputs": [
    {
     "data": {
      "text/plain": "Text(0.5,0,'Ventas_Globales')"
     },
     "execution_count": 85,
     "metadata": {},
     "output_type": "execute_result"
    },
    {
     "data": {
      "image/png": "[encoded data removed]",
      "image/svg+xml": "<?xml version=\"1.0\" encoding=\"utf-8\" standalone=\"no\"?>\n<!DOCTYPE svg PUBLIC \"-//W3C//DTD SVG 1.1//EN\"\n  \"http://www.w3.org/Graphics/SVG/1.1/DTD/svg11.dtd\">\n<!-- Created with matplotlib (http://matplotlib.org/) -->\n<svg height=\"265pt\" version=\"1.1\" viewBox=\"0 0 405 265\" width=\"405pt\" xmlns=\"http://www.w3.org/2000/svg\" xmlns:xlink=\"http://www.w3.org/1999/xlink\">\n <defs>\n  <style type=\"text/css\">\n*{stroke-linecap:butt;stroke-linejoin:round;}\n  </style>\n </defs>\n <g id=\"figure_1\">\n  <g id=\"patch_1\">\n   <path d=\"M 0 265.974375 \nL 405.190625 265.974375 \nL 405.190625 0 \nL 0 0 \nz\n\" style=\"fill:none;\"/>\n  </g>\n  <g id=\"axes_1\">\n   <g id=\"patch_2\">\n    <path d=\"M 59.690625 228.14 \nL 394.490625 228.14 \nL 394.490625 10.7 \nL 59.690625 10.7 \nz\n\" style=\"fill:#ffffff;\"/>\n   </g>\n   <g id=\"matplotlib.axis_1\">\n    <g id=\"xtick_1\">\n     <g id=\"line2d_1\">\n      <defs>\n       <path d=\"M 0 0 \nL 0 3.5 \n\" id=\"md757a5e5b7\" style=\"stroke:#000000;stroke-width:0.8;\"/>\n      </defs>\n      <g>\n       <use style=\"stroke:#000000;stroke-width:0.8;\" x=\"74.823813\" xlink:href=\"#md757a5e5b7\" y=\"228.14\"/>\n      </g>\n     </g>\n     <g id=\"text_1\">\n      <!-- 0 -->\n      <defs>\n       <path d=\"M 31.78125 66.40625 \nQ 24.171875 66.40625 20.328125 58.90625 \nQ 16.5 51.421875 16.5 36.375 \nQ 16.5 21.390625 20.328125 13.890625 \nQ 24.171875 6.390625 31.78125 6.390625 \nQ 39.453125 6.390625 43.28125 13.890625 \nQ 47.125 21.390625 47.125 36.375 \nQ 47.125 51.421875 43.28125 58.90625 \nQ 39.453125 66.40625 31.78125 66.40625 \nz\nM 31.78125 74.21875 \nQ 44.046875 74.21875 50.515625 64.515625 \nQ 56.984375 54.828125 56.984375 36.375 \nQ 56.984375 17.96875 50.515625 8.265625 \nQ 44.046875 -1.421875 31.78125 -1.421875 \nQ 19.53125 -1.421875 13.0625 8.265625 \nQ 6.59375 17.96875 6.59375 36.375 \nQ 6.59375 54.828125 13.0625 64.515625 \nQ 19.53125 74.21875 31.78125 74.21875 \nz\n\" id=\"DejaVuSans-30\"/>\n      </defs>\n      <g transform=\"translate(71.642563 242.738438)scale(0.1 -0.1)\">\n       <use xlink:href=\"#DejaVuSans-30\"/>\n      </g>\n     </g>\n    </g>\n    <g id=\"xtick_2\">\n     <g id=\"line2d_2\">\n      <g>\n       <use style=\"stroke:#000000;stroke-width:0.8;\" x=\"117.32083\" xlink:href=\"#md757a5e5b7\" y=\"228.14\"/>\n      </g>\n     </g>\n     <g id=\"text_2\">\n      <!-- 5 -->\n      <defs>\n       <path d=\"M 10.796875 72.90625 \nL 49.515625 72.90625 \nL 49.515625 64.59375 \nL 19.828125 64.59375 \nL 19.828125 46.734375 \nQ 21.96875 47.46875 24.109375 47.828125 \nQ 26.265625 48.1875 28.421875 48.1875 \nQ 40.625 48.1875 47.75 41.5 \nQ 54.890625 34.8125 54.890625 23.390625 \nQ 54.890625 11.625 47.5625 5.09375 \nQ 40.234375 -1.421875 26.90625 -1.421875 \nQ 22.3125 -1.421875 17.546875 -0.640625 \nQ 12.796875 0.140625 7.71875 1.703125 \nL 7.71875 11.625 \nQ 12.109375 9.234375 16.796875 8.0625 \nQ 21.484375 6.890625 26.703125 6.890625 \nQ 35.15625 6.890625 40.078125 11.328125 \nQ 45.015625 15.765625 45.015625 23.390625 \nQ 45.015625 31 40.078125 35.4375 \nQ 35.15625 39.890625 26.703125 39.890625 \nQ 22.75 39.890625 18.8125 39.015625 \nQ 14.890625 38.140625 10.796875 36.28125 \nz\n\" id=\"DejaVuSans-35\"/>\n      </defs>\n      <g transform=\"translate(114.13958 242.738438)scale(0.1 -0.1)\">\n       <use xlink:href=\"#DejaVuSans-35\"/>\n      </g>\n     </g>\n    </g>\n    <g id=\"xtick_3\">\n     <g id=\"line2d_3\">\n      <g>\n       <use style=\"stroke:#000000;stroke-width:0.8;\" x=\"159.817847\" xlink:href=\"#md757a5e5b7\" y=\"228.14\"/>\n      </g>\n     </g>\n     <g id=\"text_3\">\n      <!-- 10 -->\n      <defs>\n       <path d=\"M 12.40625 8.296875 \nL 28.515625 8.296875 \nL 28.515625 63.921875 \nL 10.984375 60.40625 \nL 10.984375 69.390625 \nL 28.421875 72.90625 \nL 38.28125 72.90625 \nL 38.28125 8.296875 \nL 54.390625 8.296875 \nL 54.390625 0 \nL 12.40625 0 \nz\n\" id=\"DejaVuSans-31\"/>\n      </defs>\n      <g transform=\"translate(153.455347 242.738438)scale(0.1 -0.1)\">\n       <use xlink:href=\"#DejaVuSans-31\"/>\n       <use x=\"63.623047\" xlink:href=\"#DejaVuSans-30\"/>\n      </g>\n     </g>\n    </g>\n    <g id=\"xtick_4\">\n     <g id=\"line2d_4\">\n      <g>\n       <use style=\"stroke:#000000;stroke-width:0.8;\" x=\"202.314864\" xlink:href=\"#md757a5e5b7\" y=\"228.14\"/>\n      </g>\n     </g>\n     <g id=\"text_4\">\n      <!-- 15 -->\n      <g transform=\"translate(195.952364 242.738438)scale(0.1 -0.1)\">\n       <use xlink:href=\"#DejaVuSans-31\"/>\n       <use x=\"63.623047\" xlink:href=\"#DejaVuSans-35\"/>\n      </g>\n     </g>\n    </g>\n    <g id=\"xtick_5\">\n     <g id=\"line2d_5\">\n      <g>\n       <use style=\"stroke:#000000;stroke-width:0.8;\" x=\"244.811881\" xlink:href=\"#md757a5e5b7\" y=\"228.14\"/>\n      </g>\n     </g>\n     <g id=\"text_5\">\n      <!-- 20 -->\n      <defs>\n       <path d=\"M 19.1875 8.296875 \nL 53.609375 8.296875 \nL 53.609375 0 \nL 7.328125 0 \nL 7.328125 8.296875 \nQ 12.9375 14.109375 22.625 23.890625 \nQ 32.328125 33.6875 34.8125 36.53125 \nQ 39.546875 41.84375 41.421875 45.53125 \nQ 43.3125 49.21875 43.3125 52.78125 \nQ 43.3125 58.59375 39.234375 62.25 \nQ 35.15625 65.921875 28.609375 65.921875 \nQ 23.96875 65.921875 18.8125 64.3125 \nQ 13.671875 62.703125 7.8125 59.421875 \nL 7.8125 69.390625 \nQ 13.765625 71.78125 18.9375 73 \nQ 24.125 74.21875 28.421875 74.21875 \nQ 39.75 74.21875 46.484375 68.546875 \nQ 53.21875 62.890625 53.21875 53.421875 \nQ 53.21875 48.921875 51.53125 44.890625 \nQ 49.859375 40.875 45.40625 35.40625 \nQ 44.1875 33.984375 37.640625 27.21875 \nQ 31.109375 20.453125 19.1875 8.296875 \nz\n\" id=\"DejaVuSans-32\"/>\n      </defs>\n      <g transform=\"translate(238.449381 242.738438)scale(0.1 -0.1)\">\n       <use xlink:href=\"#DejaVuSans-32\"/>\n       <use x=\"63.623047\" xlink:href=\"#DejaVuSans-30\"/>\n      </g>\n     </g>\n    </g>\n    <g id=\"xtick_6\">\n     <g id=\"line2d_6\">\n      <g>\n       <use style=\"stroke:#000000;stroke-width:0.8;\" x=\"287.308898\" xlink:href=\"#md757a5e5b7\" y=\"228.14\"/>\n      </g>\n     </g>\n     <g id=\"text_6\">\n      <!-- 25 -->\n      <g transform=\"translate(280.946398 242.738438)scale(0.1 -0.1)\">\n       <use xlink:href=\"#DejaVuSans-32\"/>\n       <use x=\"63.623047\" xlink:href=\"#DejaVuSans-35\"/>\n      </g>\n     </g>\n    </g>\n    <g id=\"xtick_7\">\n     <g id=\"line2d_7\">\n      <g>\n       <use style=\"stroke:#000000;stroke-width:0.8;\" x=\"329.805915\" xlink:href=\"#md757a5e5b7\" y=\"228.14\"/>\n      </g>\n     </g>\n     <g id=\"text_7\">\n      <!-- 30 -->\n      <defs>\n       <path d=\"M 40.578125 39.3125 \nQ 47.65625 37.796875 51.625 33 \nQ 55.609375 28.21875 55.609375 21.1875 \nQ 55.609375 10.40625 48.1875 4.484375 \nQ 40.765625 -1.421875 27.09375 -1.421875 \nQ 22.515625 -1.421875 17.65625 -0.515625 \nQ 12.796875 0.390625 7.625 2.203125 \nL 7.625 11.71875 \nQ 11.71875 9.328125 16.59375 8.109375 \nQ 21.484375 6.890625 26.8125 6.890625 \nQ 36.078125 6.890625 40.9375 10.546875 \nQ 45.796875 14.203125 45.796875 21.1875 \nQ 45.796875 27.640625 41.28125 31.265625 \nQ 36.765625 34.90625 28.71875 34.90625 \nL 20.21875 34.90625 \nL 20.21875 43.015625 \nL 29.109375 43.015625 \nQ 36.375 43.015625 40.234375 45.921875 \nQ 44.09375 48.828125 44.09375 54.296875 \nQ 44.09375 59.90625 40.109375 62.90625 \nQ 36.140625 65.921875 28.71875 65.921875 \nQ 24.65625 65.921875 20.015625 65.03125 \nQ 15.375 64.15625 9.8125 62.3125 \nL 9.8125 71.09375 \nQ 15.4375 72.65625 20.34375 73.4375 \nQ 25.25 74.21875 29.59375 74.21875 \nQ 40.828125 74.21875 47.359375 69.109375 \nQ 53.90625 64.015625 53.90625 55.328125 \nQ 53.90625 49.265625 50.4375 45.09375 \nQ 46.96875 40.921875 40.578125 39.3125 \nz\n\" id=\"DejaVuSans-33\"/>\n      </defs>\n      <g transform=\"translate(323.443415 242.738438)scale(0.1 -0.1)\">\n       <use xlink:href=\"#DejaVuSans-33\"/>\n       <use x=\"63.623047\" xlink:href=\"#DejaVuSans-30\"/>\n      </g>\n     </g>\n    </g>\n    <g id=\"xtick_8\">\n     <g id=\"line2d_8\">\n      <g>\n       <use style=\"stroke:#000000;stroke-width:0.8;\" x=\"372.302932\" xlink:href=\"#md757a5e5b7\" y=\"228.14\"/>\n      </g>\n     </g>\n     <g id=\"text_8\">\n      <!-- 35 -->\n      <g transform=\"translate(365.940432 242.738438)scale(0.1 -0.1)\">\n       <use xlink:href=\"#DejaVuSans-33\"/>\n       <use x=\"63.623047\" xlink:href=\"#DejaVuSans-35\"/>\n      </g>\n     </g>\n    </g>\n    <g id=\"text_9\">\n     <!-- Ventas_Globales -->\n     <defs>\n      <path d=\"M 28.609375 0 \nL 0.78125 72.90625 \nL 11.078125 72.90625 \nL 34.1875 11.53125 \nL 57.328125 72.90625 \nL 67.578125 72.90625 \nL 39.796875 0 \nz\n\" id=\"DejaVuSans-56\"/>\n      <path d=\"M 56.203125 29.59375 \nL 56.203125 25.203125 \nL 14.890625 25.203125 \nQ 15.484375 15.921875 20.484375 11.0625 \nQ 25.484375 6.203125 34.421875 6.203125 \nQ 39.59375 6.203125 44.453125 7.46875 \nQ 49.3125 8.734375 54.109375 11.28125 \nL 54.109375 2.78125 \nQ 49.265625 0.734375 44.1875 -0.34375 \nQ 39.109375 -1.421875 33.890625 -1.421875 \nQ 20.796875 -1.421875 13.15625 6.1875 \nQ 5.515625 13.8125 5.515625 26.8125 \nQ 5.515625 40.234375 12.765625 48.109375 \nQ 20.015625 56 32.328125 56 \nQ 43.359375 56 49.78125 48.890625 \nQ 56.203125 41.796875 56.203125 29.59375 \nz\nM 47.21875 32.234375 \nQ 47.125 39.59375 43.09375 43.984375 \nQ 39.0625 48.390625 32.421875 48.390625 \nQ 24.90625 48.390625 20.390625 44.140625 \nQ 15.875 39.890625 15.1875 32.171875 \nz\n\" id=\"DejaVuSans-65\"/>\n      <path d=\"M 54.890625 33.015625 \nL 54.890625 0 \nL 45.90625 0 \nL 45.90625 32.71875 \nQ 45.90625 40.484375 42.875 44.328125 \nQ 39.84375 48.1875 33.796875 48.1875 \nQ 26.515625 48.1875 22.3125 43.546875 \nQ 18.109375 38.921875 18.109375 30.90625 \nL 18.109375 0 \nL 9.078125 0 \nL 9.078125 54.6875 \nL 18.109375 54.6875 \nL 18.109375 46.1875 \nQ 21.34375 51.125 25.703125 53.5625 \nQ 30.078125 56 35.796875 56 \nQ 45.21875 56 50.046875 50.171875 \nQ 54.890625 44.34375 54.890625 33.015625 \nz\n\" id=\"DejaVuSans-6e\"/>\n      <path d=\"M 18.3125 70.21875 \nL 18.3125 54.6875 \nL 36.8125 54.6875 \nL 36.8125 47.703125 \nL 18.3125 47.703125 \nL 18.3125 18.015625 \nQ 18.3125 11.328125 20.140625 9.421875 \nQ 21.96875 7.515625 27.59375 7.515625 \nL 36.8125 7.515625 \nL 36.8125 0 \nL 27.59375 0 \nQ 17.1875 0 13.234375 3.875 \nQ 9.28125 7.765625 9.28125 18.015625 \nL 9.28125 47.703125 \nL 2.6875 47.703125 \nL 2.6875 54.6875 \nL 9.28125 54.6875 \nL 9.28125 70.21875 \nz\n\" id=\"DejaVuSans-74\"/>\n      <path d=\"M 34.28125 27.484375 \nQ 23.390625 27.484375 19.1875 25 \nQ 14.984375 22.515625 14.984375 16.5 \nQ 14.984375 11.71875 18.140625 8.90625 \nQ 21.296875 6.109375 26.703125 6.109375 \nQ 34.1875 6.109375 38.703125 11.40625 \nQ 43.21875 16.703125 43.21875 25.484375 \nL 43.21875 27.484375 \nz\nM 52.203125 31.203125 \nL 52.203125 0 \nL 43.21875 0 \nL 43.21875 8.296875 \nQ 40.140625 3.328125 35.546875 0.953125 \nQ 30.953125 -1.421875 24.3125 -1.421875 \nQ 15.921875 -1.421875 10.953125 3.296875 \nQ 6 8.015625 6 15.921875 \nQ 6 25.140625 12.171875 29.828125 \nQ 18.359375 34.515625 30.609375 34.515625 \nL 43.21875 34.515625 \nL 43.21875 35.40625 \nQ 43.21875 41.609375 39.140625 45 \nQ 35.0625 48.390625 27.6875 48.390625 \nQ 23 48.390625 18.546875 47.265625 \nQ 14.109375 46.140625 10.015625 43.890625 \nL 10.015625 52.203125 \nQ 14.9375 54.109375 19.578125 55.046875 \nQ 24.21875 56 28.609375 56 \nQ 40.484375 56 46.34375 49.84375 \nQ 52.203125 43.703125 52.203125 31.203125 \nz\n\" id=\"DejaVuSans-61\"/>\n      <path d=\"M 44.28125 53.078125 \nL 44.28125 44.578125 \nQ 40.484375 46.53125 36.375 47.5 \nQ 32.28125 48.484375 27.875 48.484375 \nQ 21.1875 48.484375 17.84375 46.4375 \nQ 14.5 44.390625 14.5 40.28125 \nQ 14.5 37.15625 16.890625 35.375 \nQ 19.28125 33.59375 26.515625 31.984375 \nL 29.59375 31.296875 \nQ 39.15625 29.25 43.1875 25.515625 \nQ 47.21875 21.78125 47.21875 15.09375 \nQ 47.21875 7.46875 41.1875 3.015625 \nQ 35.15625 -1.421875 24.609375 -1.421875 \nQ 20.21875 -1.421875 15.453125 -0.5625 \nQ 10.6875 0.296875 5.421875 2 \nL 5.421875 11.28125 \nQ 10.40625 8.6875 15.234375 7.390625 \nQ 20.0625 6.109375 24.8125 6.109375 \nQ 31.15625 6.109375 34.5625 8.28125 \nQ 37.984375 10.453125 37.984375 14.40625 \nQ 37.984375 18.0625 35.515625 20.015625 \nQ 33.0625 21.96875 24.703125 23.78125 \nL 21.578125 24.515625 \nQ 13.234375 26.265625 9.515625 29.90625 \nQ 5.8125 33.546875 5.8125 39.890625 \nQ 5.8125 47.609375 11.28125 51.796875 \nQ 16.75 56 26.8125 56 \nQ 31.78125 56 36.171875 55.265625 \nQ 40.578125 54.546875 44.28125 53.078125 \nz\n\" id=\"DejaVuSans-73\"/>\n      <path d=\"M 50.984375 -16.609375 \nL 50.984375 -23.578125 \nL -0.984375 -23.578125 \nL -0.984375 -16.609375 \nz\n\" id=\"DejaVuSans-5f\"/>\n      <path d=\"M 59.515625 10.40625 \nL 59.515625 29.984375 \nL 43.40625 29.984375 \nL 43.40625 38.09375 \nL 69.28125 38.09375 \nL 69.28125 6.78125 \nQ 63.578125 2.734375 56.6875 0.65625 \nQ 49.8125 -1.421875 42 -1.421875 \nQ 24.90625 -1.421875 15.25 8.5625 \nQ 5.609375 18.5625 5.609375 36.375 \nQ 5.609375 54.25 15.25 64.234375 \nQ 24.90625 74.21875 42 74.21875 \nQ 49.125 74.21875 55.546875 72.453125 \nQ 61.96875 70.703125 67.390625 67.28125 \nL 67.390625 56.78125 \nQ 61.921875 61.421875 55.765625 63.765625 \nQ 49.609375 66.109375 42.828125 66.109375 \nQ 29.4375 66.109375 22.71875 58.640625 \nQ 16.015625 51.171875 16.015625 36.375 \nQ 16.015625 21.625 22.71875 14.15625 \nQ 29.4375 6.6875 42.828125 6.6875 \nQ 48.046875 6.6875 52.140625 7.59375 \nQ 56.25 8.5 59.515625 10.40625 \nz\n\" id=\"DejaVuSans-47\"/>\n      <path d=\"M 9.421875 75.984375 \nL 18.40625 75.984375 \nL 18.40625 0 \nL 9.421875 0 \nz\n\" id=\"DejaVuSans-6c\"/>\n      <path d=\"M 30.609375 48.390625 \nQ 23.390625 48.390625 19.1875 42.75 \nQ 14.984375 37.109375 14.984375 27.296875 \nQ 14.984375 17.484375 19.15625 11.84375 \nQ 23.34375 6.203125 30.609375 6.203125 \nQ 37.796875 6.203125 41.984375 11.859375 \nQ 46.1875 17.53125 46.1875 27.296875 \nQ 46.1875 37.015625 41.984375 42.703125 \nQ 37.796875 48.390625 30.609375 48.390625 \nz\nM 30.609375 56 \nQ 42.328125 56 49.015625 48.375 \nQ 55.71875 40.765625 55.71875 27.296875 \nQ 55.71875 13.875 49.015625 6.21875 \nQ 42.328125 -1.421875 30.609375 -1.421875 \nQ 18.84375 -1.421875 12.171875 6.21875 \nQ 5.515625 13.875 5.515625 27.296875 \nQ 5.515625 40.765625 12.171875 48.375 \nQ 18.84375 56 30.609375 56 \nz\n\" id=\"DejaVuSans-6f\"/>\n      <path d=\"M 48.6875 27.296875 \nQ 48.6875 37.203125 44.609375 42.84375 \nQ 40.53125 48.484375 33.40625 48.484375 \nQ 26.265625 48.484375 22.1875 42.84375 \nQ 18.109375 37.203125 18.109375 27.296875 \nQ 18.109375 17.390625 22.1875 11.75 \nQ 26.265625 6.109375 33.40625 6.109375 \nQ 40.53125 6.109375 44.609375 11.75 \nQ 48.6875 17.390625 48.6875 27.296875 \nz\nM 18.109375 46.390625 \nQ 20.953125 51.265625 25.265625 53.625 \nQ 29.59375 56 35.59375 56 \nQ 45.5625 56 51.78125 48.09375 \nQ 58.015625 40.1875 58.015625 27.296875 \nQ 58.015625 14.40625 51.78125 6.484375 \nQ 45.5625 -1.421875 35.59375 -1.421875 \nQ 29.59375 -1.421875 25.265625 0.953125 \nQ 20.953125 3.328125 18.109375 8.203125 \nL 18.109375 0 \nL 9.078125 0 \nL 9.078125 75.984375 \nL 18.109375 75.984375 \nz\n\" id=\"DejaVuSans-62\"/>\n     </defs>\n     <g transform=\"translate(185.670313 256.416562)scale(0.1 -0.1)\">\n      <use xlink:href=\"#DejaVuSans-56\"/>\n      <use x=\"68.298828\" xlink:href=\"#DejaVuSans-65\"/>\n      <use x=\"129.822266\" xlink:href=\"#DejaVuSans-6e\"/>\n      <use x=\"193.201172\" xlink:href=\"#DejaVuSans-74\"/>\n      <use x=\"232.410156\" xlink:href=\"#DejaVuSans-61\"/>\n      <use x=\"293.689453\" xlink:href=\"#DejaVuSans-73\"/>\n      <use x=\"345.789062\" xlink:href=\"#DejaVuSans-5f\"/>\n      <use x=\"395.789062\" xlink:href=\"#DejaVuSans-47\"/>\n      <use x=\"473.279297\" xlink:href=\"#DejaVuSans-6c\"/>\n      <use x=\"501.0625\" xlink:href=\"#DejaVuSans-6f\"/>\n      <use x=\"562.244141\" xlink:href=\"#DejaVuSans-62\"/>\n      <use x=\"625.720703\" xlink:href=\"#DejaVuSans-61\"/>\n      <use x=\"687\" xlink:href=\"#DejaVuSans-6c\"/>\n      <use x=\"714.783203\" xlink:href=\"#DejaVuSans-65\"/>\n      <use x=\"776.306641\" xlink:href=\"#DejaVuSans-73\"/>\n     </g>\n    </g>\n   </g>\n   <g id=\"matplotlib.axis_2\">\n    <g id=\"ytick_1\">\n     <g id=\"line2d_9\">\n      <defs>\n       <path d=\"M 0 0 \nL -3.5 0 \n\" id=\"m9da50b979c\" style=\"stroke:#000000;stroke-width:0.8;\"/>\n      </defs>\n      <g>\n       <use style=\"stroke:#000000;stroke-width:0.8;\" x=\"59.690625\" xlink:href=\"#m9da50b979c\" y=\"218.256364\"/>\n      </g>\n     </g>\n     <g id=\"text_10\">\n      <!-- 0 -->\n      <g transform=\"translate(46.328125 222.055582)scale(0.1 -0.1)\">\n       <use xlink:href=\"#DejaVuSans-30\"/>\n      </g>\n     </g>\n    </g>\n    <g id=\"ytick_2\">\n     <g id=\"line2d_10\">\n      <g>\n       <use style=\"stroke:#000000;stroke-width:0.8;\" x=\"59.690625\" xlink:href=\"#m9da50b979c\" y=\"186.248733\"/>\n      </g>\n     </g>\n     <g id=\"text_11\">\n      <!-- 5000 -->\n      <g transform=\"translate(27.240625 190.047951)scale(0.1 -0.1)\">\n       <use xlink:href=\"#DejaVuSans-35\"/>\n       <use x=\"63.623047\" xlink:href=\"#DejaVuSans-30\"/>\n       <use x=\"127.246094\" xlink:href=\"#DejaVuSans-30\"/>\n       <use x=\"190.869141\" xlink:href=\"#DejaVuSans-30\"/>\n      </g>\n     </g>\n    </g>\n    <g id=\"ytick_3\">\n     <g id=\"line2d_11\">\n      <g>\n       <use style=\"stroke:#000000;stroke-width:0.8;\" x=\"59.690625\" xlink:href=\"#m9da50b979c\" y=\"154.241102\"/>\n      </g>\n     </g>\n     <g id=\"text_12\">\n      <!-- 10000 -->\n      <g transform=\"translate(20.878125 158.04032)scale(0.1 -0.1)\">\n       <use xlink:href=\"#DejaVuSans-31\"/>\n       <use x=\"63.623047\" xlink:href=\"#DejaVuSans-30\"/>\n       <use x=\"127.246094\" xlink:href=\"#DejaVuSans-30\"/>\n       <use x=\"190.869141\" xlink:href=\"#DejaVuSans-30\"/>\n       <use x=\"254.492188\" xlink:href=\"#DejaVuSans-30\"/>\n      </g>\n     </g>\n    </g>\n    <g id=\"ytick_4\">\n     <g id=\"line2d_12\">\n      <g>\n       <use style=\"stroke:#000000;stroke-width:0.8;\" x=\"59.690625\" xlink:href=\"#m9da50b979c\" y=\"122.233471\"/>\n      </g>\n     </g>\n     <g id=\"text_13\">\n      <!-- 15000 -->\n      <g transform=\"translate(20.878125 126.03269)scale(0.1 -0.1)\">\n       <use xlink:href=\"#DejaVuSans-31\"/>\n       <use x=\"63.623047\" xlink:href=\"#DejaVuSans-35\"/>\n       <use x=\"127.246094\" xlink:href=\"#DejaVuSans-30\"/>\n       <use x=\"190.869141\" xlink:href=\"#DejaVuSans-30\"/>\n       <use x=\"254.492188\" xlink:href=\"#DejaVuSans-30\"/>\n      </g>\n     </g>\n    </g>\n    <g id=\"ytick_5\">\n     <g id=\"line2d_13\">\n      <g>\n       <use style=\"stroke:#000000;stroke-width:0.8;\" x=\"59.690625\" xlink:href=\"#m9da50b979c\" y=\"90.22584\"/>\n      </g>\n     </g>\n     <g id=\"text_14\">\n      <!-- 20000 -->\n      <g transform=\"translate(20.878125 94.025059)scale(0.1 -0.1)\">\n       <use xlink:href=\"#DejaVuSans-32\"/>\n       <use x=\"63.623047\" xlink:href=\"#DejaVuSans-30\"/>\n       <use x=\"127.246094\" xlink:href=\"#DejaVuSans-30\"/>\n       <use x=\"190.869141\" xlink:href=\"#DejaVuSans-30\"/>\n       <use x=\"254.492188\" xlink:href=\"#DejaVuSans-30\"/>\n      </g>\n     </g>\n    </g>\n    <g id=\"ytick_6\">\n     <g id=\"line2d_14\">\n      <g>\n       <use style=\"stroke:#000000;stroke-width:0.8;\" x=\"59.690625\" xlink:href=\"#m9da50b979c\" y=\"58.218209\"/>\n      </g>\n     </g>\n     <g id=\"text_15\">\n      <!-- 25000 -->\n      <g transform=\"translate(20.878125 62.017428)scale(0.1 -0.1)\">\n       <use xlink:href=\"#DejaVuSans-32\"/>\n       <use x=\"63.623047\" xlink:href=\"#DejaVuSans-35\"/>\n       <use x=\"127.246094\" xlink:href=\"#DejaVuSans-30\"/>\n       <use x=\"190.869141\" xlink:href=\"#DejaVuSans-30\"/>\n       <use x=\"254.492188\" xlink:href=\"#DejaVuSans-30\"/>\n      </g>\n     </g>\n    </g>\n    <g id=\"ytick_7\">\n     <g id=\"line2d_15\">\n      <g>\n       <use style=\"stroke:#000000;stroke-width:0.8;\" x=\"59.690625\" xlink:href=\"#m9da50b979c\" y=\"26.210578\"/>\n      </g>\n     </g>\n     <g id=\"text_16\">\n      <!-- 30000 -->\n      <g transform=\"translate(20.878125 30.009797)scale(0.1 -0.1)\">\n       <use xlink:href=\"#DejaVuSans-33\"/>\n       <use x=\"63.623047\" xlink:href=\"#DejaVuSans-30\"/>\n       <use x=\"127.246094\" xlink:href=\"#DejaVuSans-30\"/>\n       <use x=\"190.869141\" xlink:href=\"#DejaVuSans-30\"/>\n       <use x=\"254.492188\" xlink:href=\"#DejaVuSans-30\"/>\n      </g>\n     </g>\n    </g>\n    <g id=\"text_17\">\n     <!-- Contador -->\n     <defs>\n      <path d=\"M 64.40625 67.28125 \nL 64.40625 56.890625 \nQ 59.421875 61.53125 53.78125 63.8125 \nQ 48.140625 66.109375 41.796875 66.109375 \nQ 29.296875 66.109375 22.65625 58.46875 \nQ 16.015625 50.828125 16.015625 36.375 \nQ 16.015625 21.96875 22.65625 14.328125 \nQ 29.296875 6.6875 41.796875 6.6875 \nQ 48.140625 6.6875 53.78125 8.984375 \nQ 59.421875 11.28125 64.40625 15.921875 \nL 64.40625 5.609375 \nQ 59.234375 2.09375 53.4375 0.328125 \nQ 47.65625 -1.421875 41.21875 -1.421875 \nQ 24.65625 -1.421875 15.125 8.703125 \nQ 5.609375 18.84375 5.609375 36.375 \nQ 5.609375 53.953125 15.125 64.078125 \nQ 24.65625 74.21875 41.21875 74.21875 \nQ 47.75 74.21875 53.53125 72.484375 \nQ 59.328125 70.75 64.40625 67.28125 \nz\n\" id=\"DejaVuSans-43\"/>\n      <path d=\"M 45.40625 46.390625 \nL 45.40625 75.984375 \nL 54.390625 75.984375 \nL 54.390625 0 \nL 45.40625 0 \nL 45.40625 8.203125 \nQ 42.578125 3.328125 38.25 0.953125 \nQ 33.9375 -1.421875 27.875 -1.421875 \nQ 17.96875 -1.421875 11.734375 6.484375 \nQ 5.515625 14.40625 5.515625 27.296875 \nQ 5.515625 40.1875 11.734375 48.09375 \nQ 17.96875 56 27.875 56 \nQ 33.9375 56 38.25 53.625 \nQ 42.578125 51.265625 45.40625 46.390625 \nz\nM 14.796875 27.296875 \nQ 14.796875 17.390625 18.875 11.75 \nQ 22.953125 6.109375 30.078125 6.109375 \nQ 37.203125 6.109375 41.296875 11.75 \nQ 45.40625 17.390625 45.40625 27.296875 \nQ 45.40625 37.203125 41.296875 42.84375 \nQ 37.203125 48.484375 30.078125 48.484375 \nQ 22.953125 48.484375 18.875 42.84375 \nQ 14.796875 37.203125 14.796875 27.296875 \nz\n\" id=\"DejaVuSans-64\"/>\n      <path d=\"M 41.109375 46.296875 \nQ 39.59375 47.171875 37.8125 47.578125 \nQ 36.03125 48 33.890625 48 \nQ 26.265625 48 22.1875 43.046875 \nQ 18.109375 38.09375 18.109375 28.8125 \nL 18.109375 0 \nL 9.078125 0 \nL 9.078125 54.6875 \nL 18.109375 54.6875 \nL 18.109375 46.1875 \nQ 20.953125 51.171875 25.484375 53.578125 \nQ 30.03125 56 36.53125 56 \nQ 37.453125 56 38.578125 55.875 \nQ 39.703125 55.765625 41.0625 55.515625 \nz\n\" id=\"DejaVuSans-72\"/>\n     </defs>\n     <g transform=\"translate(14.798438 142.452813)rotate(-90)scale(0.1 -0.1)\">\n      <use xlink:href=\"#DejaVuSans-43\"/>\n      <use x=\"69.824219\" xlink:href=\"#DejaVuSans-6f\"/>\n      <use x=\"131.005859\" xlink:href=\"#DejaVuSans-6e\"/>\n      <use x=\"194.384766\" xlink:href=\"#DejaVuSans-74\"/>\n      <use x=\"233.59375\" xlink:href=\"#DejaVuSans-61\"/>\n      <use x=\"294.873047\" xlink:href=\"#DejaVuSans-64\"/>\n      <use x=\"358.349609\" xlink:href=\"#DejaVuSans-6f\"/>\n      <use x=\"419.53125\" xlink:href=\"#DejaVuSans-72\"/>\n     </g>\n    </g>\n   </g>\n   <g id=\"line2d_16\">\n    <defs>\n     <path d=\"M 0 3 \nC 0.795609 3 1.55874 2.683901 2.12132 2.12132 \nC 2.683901 1.55874 3 0.795609 3 0 \nC 3 -0.795609 2.683901 -1.55874 2.12132 -2.12132 \nC 1.55874 -2.683901 0.795609 -3 0 -3 \nC -0.795609 -3 -1.55874 -2.683901 -2.12132 -2.12132 \nC -2.683901 -1.55874 -3 -0.795609 -3 0 \nC -3 0.795609 -2.683901 1.55874 -2.12132 2.12132 \nC -1.55874 2.683901 -0.795609 3 0 3 \nz\n\" id=\"m0f3379cd95\" style=\"stroke:#ff0000;\"/>\n    </defs>\n    <g clip-path=\"url(#p6649e78916)\">\n     <use style=\"fill:#ff0000;stroke:#ff0000;\" x=\"153.018324\" xlink:href=\"#m0f3379cd95\" y=\"20.583636\"/>\n     <use style=\"fill:#ff0000;stroke:#ff0000;\" x=\"78.478556\" xlink:href=\"#m0f3379cd95\" y=\"189.743966\"/>\n     <use style=\"fill:#ff0000;stroke:#ff0000;\" x=\"82.048306\" xlink:href=\"#m0f3379cd95\" y=\"189.80158\"/>\n     <use style=\"fill:#ff0000;stroke:#ff0000;\" x=\"130.834881\" xlink:href=\"#m0f3379cd95\" y=\"202.015692\"/>\n     <use style=\"fill:#ff0000;stroke:#ff0000;\" x=\"133.469696\" xlink:href=\"#m0f3379cd95\" y=\"211.240291\"/>\n     <use style=\"fill:#ff0000;stroke:#ff0000;\" x=\"84.003168\" xlink:href=\"#m0f3379cd95\" y=\"214.236205\"/>\n     <use style=\"fill:#ff0000;stroke:#ff0000;\" x=\"176.646666\" xlink:href=\"#m0f3379cd95\" y=\"214.242607\"/>\n     <use style=\"fill:#ff0000;stroke:#ff0000;\" x=\"256.711046\" xlink:href=\"#m0f3379cd95\" y=\"214.242607\"/>\n     <use style=\"fill:#ff0000;stroke:#ff0000;\" x=\"214.044041\" xlink:href=\"#m0f3379cd95\" y=\"214.242607\"/>\n     <use style=\"fill:#ff0000;stroke:#ff0000;\" x=\"118.000782\" xlink:href=\"#m0f3379cd95\" y=\"214.242607\"/>\n     <use style=\"fill:#ff0000;stroke:#ff0000;\" x=\"130.919875\" xlink:href=\"#m0f3379cd95\" y=\"214.30022\"/>\n     <use style=\"fill:#ff0000;stroke:#ff0000;\" x=\"113.666086\" xlink:href=\"#m0f3379cd95\" y=\"214.511471\"/>\n     <use style=\"fill:#ff0000;stroke:#ff0000;\" x=\"100.067041\" xlink:href=\"#m0f3379cd95\" y=\"214.921168\"/>\n     <use style=\"fill:#ff0000;stroke:#ff0000;\" x=\"146.983748\" xlink:href=\"#m0f3379cd95\" y=\"215.190033\"/>\n     <use style=\"fill:#ff0000;stroke:#ff0000;\" x=\"183.021218\" xlink:href=\"#m0f3379cd95\" y=\"215.59973\"/>\n     <use style=\"fill:#ff0000;stroke:#ff0000;\" x=\"199.255079\" xlink:href=\"#m0f3379cd95\" y=\"215.625336\"/>\n     <use style=\"fill:#ff0000;stroke:#ff0000;\" x=\"87.8279\" xlink:href=\"#m0f3379cd95\" y=\"216.118254\"/>\n     <use style=\"fill:#ff0000;stroke:#ff0000;\" x=\"115.365967\" xlink:href=\"#m0f3379cd95\" y=\"216.118254\"/>\n     <use style=\"fill:#ff0000;stroke:#ff0000;\" x=\"133.979661\" xlink:href=\"#m0f3379cd95\" y=\"216.239883\"/>\n     <use style=\"fill:#ff0000;stroke:#ff0000;\" x=\"98.537148\" xlink:href=\"#m0f3379cd95\" y=\"216.406323\"/>\n     <use style=\"fill:#ff0000;stroke:#ff0000;\" x=\"136.274499\" xlink:href=\"#m0f3379cd95\" y=\"216.406323\"/>\n     <use style=\"fill:#ff0000;stroke:#ff0000;\" x=\"137.209434\" xlink:href=\"#m0f3379cd95\" y=\"216.412724\"/>\n     <use style=\"fill:#ff0000;stroke:#ff0000;\" x=\"196.790252\" xlink:href=\"#m0f3379cd95\" y=\"216.662384\"/>\n     <use style=\"fill:#ff0000;stroke:#ff0000;\" x=\"109.586373\" xlink:href=\"#m0f3379cd95\" y=\"217.168104\"/>\n     <use style=\"fill:#ff0000;stroke:#ff0000;\" x=\"85.278079\" xlink:href=\"#m0f3379cd95\" y=\"217.168104\"/>\n     <use style=\"fill:#ff0000;stroke:#ff0000;\" x=\"101.851916\" xlink:href=\"#m0f3379cd95\" y=\"217.264127\"/>\n     <use style=\"fill:#ff0000;stroke:#ff0000;\" x=\"158.797919\" xlink:href=\"#m0f3379cd95\" y=\"217.296135\"/>\n     <use style=\"fill:#ff0000;stroke:#ff0000;\" x=\"157.77799\" xlink:href=\"#m0f3379cd95\" y=\"217.417764\"/>\n     <use style=\"fill:#ff0000;stroke:#ff0000;\" x=\"94.372441\" xlink:href=\"#m0f3379cd95\" y=\"217.462574\"/>\n     <use style=\"fill:#ff0000;stroke:#ff0000;\" x=\"82.473276\" xlink:href=\"#m0f3379cd95\" y=\"217.52659\"/>\n     <use style=\"fill:#ff0000;stroke:#ff0000;\" x=\"152.08339\" xlink:href=\"#m0f3379cd95\" y=\"217.65462\"/>\n     <use style=\"fill:#ff0000;stroke:#ff0000;\" x=\"84.768115\" xlink:href=\"#m0f3379cd95\" y=\"217.673825\"/>\n     <use style=\"fill:#ff0000;stroke:#ff0000;\" x=\"80.518413\" xlink:href=\"#m0f3379cd95\" y=\"217.673825\"/>\n     <use style=\"fill:#ff0000;stroke:#ff0000;\" x=\"166.362388\" xlink:href=\"#m0f3379cd95\" y=\"217.718635\"/>\n     <use style=\"fill:#ff0000;stroke:#ff0000;\" x=\"86.722978\" xlink:href=\"#m0f3379cd95\" y=\"217.731438\"/>\n     <use style=\"fill:#ff0000;stroke:#ff0000;\" x=\"119.020711\" xlink:href=\"#m0f3379cd95\" y=\"217.73784\"/>\n     <use style=\"fill:#ff0000;stroke:#ff0000;\" x=\"379.272443\" xlink:href=\"#m0f3379cd95\" y=\"217.757045\"/>\n     <use style=\"fill:#ff0000;stroke:#ff0000;\" x=\"91.907614\" xlink:href=\"#m0f3379cd95\" y=\"217.942689\"/>\n     <use style=\"fill:#ff0000;stroke:#ff0000;\" x=\"77.968592\" xlink:href=\"#m0f3379cd95\" y=\"217.942689\"/>\n     <use style=\"fill:#ff0000;stroke:#ff0000;\" x=\"105.506659\" xlink:href=\"#m0f3379cd95\" y=\"217.942689\"/>\n     <use style=\"fill:#ff0000;stroke:#ff0000;\" x=\"118.59574\" xlink:href=\"#m0f3379cd95\" y=\"218.03231\"/>\n     <use style=\"fill:#ff0000;stroke:#ff0000;\" x=\"156.333092\" xlink:href=\"#m0f3379cd95\" y=\"218.064318\"/>\n     <use style=\"fill:#ff0000;stroke:#ff0000;\" x=\"161.602722\" xlink:href=\"#m0f3379cd95\" y=\"218.064318\"/>\n     <use style=\"fill:#ff0000;stroke:#ff0000;\" x=\"143.753974\" xlink:href=\"#m0f3379cd95\" y=\"218.070719\"/>\n     <use style=\"fill:#ff0000;stroke:#ff0000;\" x=\"132.27978\" xlink:href=\"#m0f3379cd95\" y=\"218.077121\"/>\n     <use style=\"fill:#ff0000;stroke:#ff0000;\" x=\"205.034673\" xlink:href=\"#m0f3379cd95\" y=\"218.109129\"/>\n     <use style=\"fill:#ff0000;stroke:#ff0000;\" x=\"178.601529\" xlink:href=\"#m0f3379cd95\" y=\"218.109129\"/>\n     <use style=\"fill:#ff0000;stroke:#ff0000;\" x=\"165.682435\" xlink:href=\"#m0f3379cd95\" y=\"218.121932\"/>\n     <use style=\"fill:#ff0000;stroke:#ff0000;\" x=\"82.388282\" xlink:href=\"#m0f3379cd95\" y=\"218.121932\"/>\n     <use style=\"fill:#ff0000;stroke:#ff0000;\" x=\"189.650753\" xlink:href=\"#m0f3379cd95\" y=\"218.121932\"/>\n     <use style=\"fill:#ff0000;stroke:#ff0000;\" x=\"162.027692\" xlink:href=\"#m0f3379cd95\" y=\"218.128333\"/>\n     <use style=\"fill:#ff0000;stroke:#ff0000;\" x=\"185.656033\" xlink:href=\"#m0f3379cd95\" y=\"218.153939\"/>\n     <use style=\"fill:#ff0000;stroke:#ff0000;\" x=\"128.880019\" xlink:href=\"#m0f3379cd95\" y=\"218.153939\"/>\n     <use style=\"fill:#ff0000;stroke:#ff0000;\" x=\"318.076739\" xlink:href=\"#m0f3379cd95\" y=\"218.160341\"/>\n     <use style=\"fill:#ff0000;stroke:#ff0000;\" x=\"102.531868\" xlink:href=\"#m0f3379cd95\" y=\"218.173144\"/>\n     <use style=\"fill:#ff0000;stroke:#ff0000;\" x=\"122.16549\" xlink:href=\"#m0f3379cd95\" y=\"218.173144\"/>\n     <use style=\"fill:#ff0000;stroke:#ff0000;\" x=\"189.225783\" xlink:href=\"#m0f3379cd95\" y=\"218.179545\"/>\n     <use style=\"fill:#ff0000;stroke:#ff0000;\" x=\"200.275007\" xlink:href=\"#m0f3379cd95\" y=\"218.179545\"/>\n     <use style=\"fill:#ff0000;stroke:#ff0000;\" x=\"155.738133\" xlink:href=\"#m0f3379cd95\" y=\"218.179545\"/>\n     <use style=\"fill:#ff0000;stroke:#ff0000;\" x=\"166.532376\" xlink:href=\"#m0f3379cd95\" y=\"218.185947\"/>\n     <use style=\"fill:#ff0000;stroke:#ff0000;\" x=\"139.419279\" xlink:href=\"#m0f3379cd95\" y=\"218.185947\"/>\n     <use style=\"fill:#ff0000;stroke:#ff0000;\" x=\"111.456242\" xlink:href=\"#m0f3379cd95\" y=\"218.185947\"/>\n     <use style=\"fill:#ff0000;stroke:#ff0000;\" x=\"149.958539\" xlink:href=\"#m0f3379cd95\" y=\"218.185947\"/>\n     <use style=\"fill:#ff0000;stroke:#ff0000;\" x=\"107.801498\" xlink:href=\"#m0f3379cd95\" y=\"218.185947\"/>\n     <use style=\"fill:#ff0000;stroke:#ff0000;\" x=\"118.425752\" xlink:href=\"#m0f3379cd95\" y=\"218.185947\"/>\n     <use style=\"fill:#ff0000;stroke:#ff0000;\" x=\"136.869458\" xlink:href=\"#m0f3379cd95\" y=\"218.192348\"/>\n     <use style=\"fill:#ff0000;stroke:#ff0000;\" x=\"195.855317\" xlink:href=\"#m0f3379cd95\" y=\"218.192348\"/>\n     <use style=\"fill:#ff0000;stroke:#ff0000;\" x=\"130.069935\" xlink:href=\"#m0f3379cd95\" y=\"218.19875\"/>\n     <use style=\"fill:#ff0000;stroke:#ff0000;\" x=\"119.870651\" xlink:href=\"#m0f3379cd95\" y=\"218.19875\"/>\n     <use style=\"fill:#ff0000;stroke:#ff0000;\" x=\"82.728258\" xlink:href=\"#m0f3379cd95\" y=\"218.19875\"/>\n     <use style=\"fill:#ff0000;stroke:#ff0000;\" x=\"125.140281\" xlink:href=\"#m0f3379cd95\" y=\"218.19875\"/>\n     <use style=\"fill:#ff0000;stroke:#ff0000;\" x=\"158.287954\" xlink:href=\"#m0f3379cd95\" y=\"218.205151\"/>\n     <use style=\"fill:#ff0000;stroke:#ff0000;\" x=\"111.031271\" xlink:href=\"#m0f3379cd95\" y=\"218.205151\"/>\n     <use style=\"fill:#ff0000;stroke:#ff0000;\" x=\"164.662507\" xlink:href=\"#m0f3379cd95\" y=\"218.211553\"/>\n     <use style=\"fill:#ff0000;stroke:#ff0000;\" x=\"168.487238\" xlink:href=\"#m0f3379cd95\" y=\"218.211553\"/>\n     <use style=\"fill:#ff0000;stroke:#ff0000;\" x=\"84.088163\" xlink:href=\"#m0f3379cd95\" y=\"218.217954\"/>\n     <use style=\"fill:#ff0000;stroke:#ff0000;\" x=\"194.070443\" xlink:href=\"#m0f3379cd95\" y=\"218.224356\"/>\n     <use style=\"fill:#ff0000;stroke:#ff0000;\" x=\"191.520622\" xlink:href=\"#m0f3379cd95\" y=\"218.224356\"/>\n     <use style=\"fill:#ff0000;stroke:#ff0000;\" x=\"355.304126\" xlink:href=\"#m0f3379cd95\" y=\"218.224356\"/>\n     <use style=\"fill:#ff0000;stroke:#ff0000;\" x=\"145.623843\" xlink:href=\"#m0f3379cd95\" y=\"218.230758\"/>\n     <use style=\"fill:#ff0000;stroke:#ff0000;\" x=\"113.75108\" xlink:href=\"#m0f3379cd95\" y=\"218.237159\"/>\n     <use style=\"fill:#ff0000;stroke:#ff0000;\" x=\"171.122053\" xlink:href=\"#m0f3379cd95\" y=\"218.237159\"/>\n     <use style=\"fill:#ff0000;stroke:#ff0000;\" x=\"137.464416\" xlink:href=\"#m0f3379cd95\" y=\"218.237159\"/>\n     <use style=\"fill:#ff0000;stroke:#ff0000;\" x=\"132.024798\" xlink:href=\"#m0f3379cd95\" y=\"218.237159\"/>\n     <use style=\"fill:#ff0000;stroke:#ff0000;\" x=\"87.062954\" xlink:href=\"#m0f3379cd95\" y=\"218.243561\"/>\n     <use style=\"fill:#ff0000;stroke:#ff0000;\" x=\"85.618055\" xlink:href=\"#m0f3379cd95\" y=\"218.243561\"/>\n     <use style=\"fill:#ff0000;stroke:#ff0000;\" x=\"144.858897\" xlink:href=\"#m0f3379cd95\" y=\"218.249962\"/>\n     <use style=\"fill:#ff0000;stroke:#ff0000;\" x=\"140.014237\" xlink:href=\"#m0f3379cd95\" y=\"218.249962\"/>\n     <use style=\"fill:#ff0000;stroke:#ff0000;\" x=\"121.655526\" xlink:href=\"#m0f3379cd95\" y=\"218.249962\"/>\n     <use style=\"fill:#ff0000;stroke:#ff0000;\" x=\"89.357793\" xlink:href=\"#m0f3379cd95\" y=\"218.256364\"/>\n     <use style=\"fill:#ff0000;stroke:#ff0000;\" x=\"261.810688\" xlink:href=\"#m0f3379cd95\" y=\"218.256364\"/>\n     <use style=\"fill:#ff0000;stroke:#ff0000;\" x=\"260.280795\" xlink:href=\"#m0f3379cd95\" y=\"218.256364\"/>\n     <use style=\"fill:#ff0000;stroke:#ff0000;\" x=\"75.163789\" xlink:href=\"#m0f3379cd95\" y=\"218.256364\"/>\n     <use style=\"fill:#ff0000;stroke:#ff0000;\" x=\"77.28864\" xlink:href=\"#m0f3379cd95\" y=\"218.256364\"/>\n     <use style=\"fill:#ff0000;stroke:#ff0000;\" x=\"110.521307\" xlink:href=\"#m0f3379cd95\" y=\"218.256364\"/>\n     <use style=\"fill:#ff0000;stroke:#ff0000;\" x=\"115.875931\" xlink:href=\"#m0f3379cd95\" y=\"218.256364\"/>\n     <use style=\"fill:#ff0000;stroke:#ff0000;\" x=\"141.459136\" xlink:href=\"#m0f3379cd95\" y=\"218.256364\"/>\n     <use style=\"fill:#ff0000;stroke:#ff0000;\" x=\"75.078795\" xlink:href=\"#m0f3379cd95\" y=\"218.256364\"/>\n     <use style=\"fill:#ff0000;stroke:#ff0000;\" x=\"89.017816\" xlink:href=\"#m0f3379cd95\" y=\"218.256364\"/>\n     <use style=\"fill:#ff0000;stroke:#ff0000;\" x=\"86.043025\" xlink:href=\"#m0f3379cd95\" y=\"218.256364\"/>\n     <use style=\"fill:#ff0000;stroke:#ff0000;\" x=\"90.377721\" xlink:href=\"#m0f3379cd95\" y=\"218.256364\"/>\n     <use style=\"fill:#ff0000;stroke:#ff0000;\" x=\"92.502572\" xlink:href=\"#m0f3379cd95\" y=\"218.256364\"/>\n     <use style=\"fill:#ff0000;stroke:#ff0000;\" x=\"126.075215\" xlink:href=\"#m0f3379cd95\" y=\"218.256364\"/>\n     <use style=\"fill:#ff0000;stroke:#ff0000;\" x=\"82.813252\" xlink:href=\"#m0f3379cd95\" y=\"218.256364\"/>\n     <use style=\"fill:#ff0000;stroke:#ff0000;\" x=\"84.598127\" xlink:href=\"#m0f3379cd95\" y=\"218.256364\"/>\n     <use style=\"fill:#ff0000;stroke:#ff0000;\" x=\"132.874738\" xlink:href=\"#m0f3379cd95\" y=\"218.256364\"/>\n     <use style=\"fill:#ff0000;stroke:#ff0000;\" x=\"138.144368\" xlink:href=\"#m0f3379cd95\" y=\"218.256364\"/>\n     <use style=\"fill:#ff0000;stroke:#ff0000;\" x=\"74.908807\" xlink:href=\"#m0f3379cd95\" y=\"218.256364\"/>\n    </g>\n   </g>\n   <g id=\"patch_3\">\n    <path d=\"M 59.690625 228.14 \nL 59.690625 10.7 \n\" style=\"fill:none;stroke:#000000;stroke-linecap:square;stroke-linejoin:miter;stroke-width:0.8;\"/>\n   </g>\n   <g id=\"patch_4\">\n    <path d=\"M 394.490625 228.14 \nL 394.490625 10.7 \n\" style=\"fill:none;stroke:#000000;stroke-linecap:square;stroke-linejoin:miter;stroke-width:0.8;\"/>\n   </g>\n   <g id=\"patch_5\">\n    <path d=\"M 59.690625 228.14 \nL 394.490625 228.14 \n\" style=\"fill:none;stroke:#000000;stroke-linecap:square;stroke-linejoin:miter;stroke-width:0.8;\"/>\n   </g>\n   <g id=\"patch_6\">\n    <path d=\"M 59.690625 10.7 \nL 394.490625 10.7 \n\" style=\"fill:none;stroke:#000000;stroke-linecap:square;stroke-linejoin:miter;stroke-width:0.8;\"/>\n   </g>\n  </g>\n </g>\n <defs>\n  <clipPath id=\"p6649e78916\">\n   <rect height=\"217.44\" width=\"334.8\" x=\"59.690625\" y=\"10.7\"/>\n  </clipPath>\n </defs>\n</svg>\n",
      "text/plain": "<matplotlib.figure.Figure at 0x7f5ca37daa20>"
     },
     "metadata": {
      "needs_background": "light"
     },
     "output_type": "display_data"
    }
   ],
   "source": [
    "plt.plot(df9[\"Ventas_Globales\"], df9[\"Contador\"], \"ro\")\n",
    "plt.ylabel(\"Contador\")\n",
    "plt.xlabel(\"Ventas_Globales\")"
   ]
  },
  {
   "cell_type": "markdown",
   "execution_count": null,
   "metadata": {},
   "outputs": [],
   "source": [
    "## Respuesta a la hipótesis Principal"
   ]
  },
  {
   "cell_type": "markdown",
   "execution_count": null,
   "metadata": {},
   "outputs": [],
   "source": [
    "**¿Los videojuegos de Nintendo son los más comentados en Twitter? --> No, son los videojuegos de Microsoft**"
   ]
  },
  {
   "cell_type": "code",
   "execution_count": 91,
   "metadata": {},
   "outputs": [
    {
     "data": {
      "text/html": "<div>\n<style scoped>\n    .dataframe tbody tr th:only-of-type {\n        vertical-align: middle;\n    }\n\n    .dataframe tbody tr th {\n        vertical-align: top;\n    }\n\n    .dataframe thead th {\n        text-align: right;\n    }\n</style>\n<table border=\"1\" class=\"dataframe\">\n  <thead>\n    <tr style=\"text-align: right;\">\n      <th></th>\n      <th>Contador</th>\n    </tr>\n    <tr>\n      <th>Empresa</th>\n      <th></th>\n    </tr>\n  </thead>\n  <tbody>\n    <tr>\n      <th>Microsoft</th>\n      <td>38294</td>\n    </tr>\n    <tr>\n      <th>Sony</th>\n      <td>7287</td>\n    </tr>\n    <tr>\n      <th>Ordenador</th>\n      <td>6815</td>\n    </tr>\n    <tr>\n      <th>Nintendo</th>\n      <td>1700</td>\n    </tr>\n    <tr>\n      <th>Sega</th>\n      <td>0</td>\n    </tr>\n  </tbody>\n</table>\n</div>",
      "text/plain": "           Contador\nEmpresa            \nMicrosoft     38294\nSony           7287\nOrdenador      6815\nNintendo       1700\nSega              0"
     },
     "execution_count": 91,
     "metadata": {},
     "output_type": "execute_result"
    }
   ],
   "source": [
    "df10 = df6.groupby(['Empresa']).sum().sort_values('Contador', ascending=False).reset_index()\n",
    "\n",
    "df10[['Empresa','Contador']].set_index(\"Empresa\")"
   ]
  },
  {
   "cell_type": "markdown",
   "execution_count": null,
   "metadata": {},
   "outputs": [],
   "source": [
    "**Eliminamos factor 'Minecraft' del cálculo**"
   ]
  },
  {
   "cell_type": "code",
   "execution_count": 109,
   "metadata": {},
   "outputs": [
    {
     "data": {
      "text/html": "<div>\n<style scoped>\n    .dataframe tbody tr th:only-of-type {\n        vertical-align: middle;\n    }\n\n    .dataframe tbody tr th {\n        vertical-align: top;\n    }\n\n    .dataframe thead th {\n        text-align: right;\n    }\n</style>\n<table border=\"1\" class=\"dataframe\">\n  <thead>\n    <tr style=\"text-align: right;\">\n      <th></th>\n      <th>Contador</th>\n    </tr>\n    <tr>\n      <th>Empresa</th>\n      <th></th>\n    </tr>\n  </thead>\n  <tbody>\n    <tr>\n      <th>Microsoft</th>\n      <td>7415</td>\n    </tr>\n    <tr>\n      <th>Sony</th>\n      <td>7287</td>\n    </tr>\n    <tr>\n      <th>Ordenador</th>\n      <td>6815</td>\n    </tr>\n    <tr>\n      <th>Nintendo</th>\n      <td>1700</td>\n    </tr>\n    <tr>\n      <th>Sega</th>\n      <td>0</td>\n    </tr>\n  </tbody>\n</table>\n</div>",
      "text/plain": "           Contador\nEmpresa            \nMicrosoft      7415\nSony           7287\nOrdenador      6815\nNintendo       1700\nSega              0"
     },
     "execution_count": 109,
     "metadata": {},
     "output_type": "execute_result"
    }
   ],
   "source": [
    "df11 = df6\n",
    "\n",
    "df12 = df11[df11.Nombre != 'Minecraft']\n",
    "\n",
    "df13 = df12.groupby(['Empresa']).sum().sort_values('Contador', ascending=False).reset_index()\n",
    "\n",
    "df13[['Empresa','Contador']].set_index(\"Empresa\")\n",
    "\n"
   ]
  },
  {
   "cell_type": "markdown",
   "execution_count": null,
   "metadata": {},
   "outputs": [],
   "source": [
    "## La plataforma de videojuegos con mayores interacciones en Twitter es Microsoft"
   ]
  }
 ]
}